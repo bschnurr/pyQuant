{
 "cells": [
  {
   "cell_type": "markdown",
   "id": "official-radical",
   "metadata": {},
   "source": [
    "## Get Stock Symbols from S&P 500"
   ]
  },
  {
   "cell_type": "code",
   "execution_count": null,
   "id": "another-curve",
   "metadata": {},
   "outputs": [],
   "source": [
    "import yfinance as yf\n",
    "import pandas as pd\n",
    "import datetime as dt\n",
    "import json"
   ]
  },
  {
   "cell_type": "code",
   "execution_count": null,
   "id": "prepared-trauma",
   "metadata": {},
   "outputs": [],
   "source": [
    "data = pd.read_html(\n",
    "    'https://en.wikipedia.org/wiki/List_of_S%26P_500_companies')"
   ]
  },
  {
   "cell_type": "code",
   "execution_count": null,
   "id": "essential-paraguay",
   "metadata": {
    "scrolled": false
   },
   "outputs": [],
   "source": [
    "sp500 = data[0]\n",
    "sp500 = sp500[[\n",
    "    'Symbol', 'Security', 'GICS Sector', 'GICS Sub-Industry',\n",
    "    'Date first added'\n",
    "]]\n",
    "sp500.head(10)"
   ]
  },
  {
   "cell_type": "code",
   "execution_count": null,
   "id": "cloudy-optimum",
   "metadata": {},
   "outputs": [],
   "source": [
    "sp500_symbols = sp500['Symbol'].values.tolist()\n",
    "sp500_sectors = list(set(sp500['GICS Sector'].values.tolist()))\n",
    "\n",
    "sp500_symbols_new = []\n",
    "\n",
    "for symbol in sp500_symbols:\n",
    "    if '.' in symbol:\n",
    "        sp500_symbols_new.append(symbol.replace('.', '-'))\n",
    "    else:\n",
    "        sp500_symbols_new.append(symbol)\n",
    "\n",
    "sp500_symbols = sp500_symbols_new\n",
    "#print(sp500_symbols)"
   ]
  },
  {
   "cell_type": "markdown",
   "id": "sunrise-twins",
   "metadata": {},
   "source": [
    "## Retrieve Dividend Data"
   ]
  },
  {
   "cell_type": "code",
   "execution_count": null,
   "id": "collaborative-advance",
   "metadata": {},
   "outputs": [],
   "source": [
    "div_data = {}\n",
    "count = 0\n",
    "min_div_pay_years = 5\n",
    "\n",
    "#sp500_symbols = ['HPQ']\n",
    "\n",
    "for symbol in sp500_symbols:\n",
    "    count += 1\n",
    "    if (count % 100 == 0):\n",
    "        print(count)\n",
    "    #print(f\"getting dividend data from {symbol}\")\n",
    "    annual_div = {}\n",
    "    prices = yf.Ticker(symbol).history(period='max')\n",
    "    dividends = prices[prices['Dividends'] > 0]\n",
    "    if len(dividends) > 0:\n",
    "        first_year = dividends.index[0].year\n",
    "        last_year = dt.datetime.today().year\n",
    "    else:\n",
    "        continue\n",
    "\n",
    "    # print(dividends)\n",
    "\n",
    "    # get annual dividend sum from first year it paid out div\n",
    "    for year in range(first_year, last_year):\n",
    "        div_sum = dividends[dividends.index.year == year]['Dividends'].sum()\n",
    "        annual_div[year] = div_sum\n",
    "    # min # years\n",
    "    # div_data[symbol][0] = annual dividend sum\n",
    "    # div_data[symbol][1] = # years dividends were paid out\n",
    "\n",
    "    # if len(annual_div) >= year_threshold:\n",
    "    if 0 in list(annual_div.values()):\n",
    "        continue\n",
    "    if len(annual_div) > min_div_pay_years:\n",
    "        div_data[symbol] = []\n",
    "        additionals = {}\n",
    "        additionals['consecutive_yrs'] = len(annual_div)\n",
    "        div_data[symbol].append(annual_div)\n",
    "        div_data[symbol].append(additionals)"
   ]
  },
  {
   "cell_type": "code",
   "execution_count": null,
   "id": "virtual-observation",
   "metadata": {},
   "outputs": [],
   "source": [
    "div_data"
   ]
  },
  {
   "cell_type": "markdown",
   "id": "abandoned-cambridge",
   "metadata": {},
   "source": [
    "## Calculate Average Dividend Growth Rate Since Inception"
   ]
  },
  {
   "cell_type": "code",
   "execution_count": null,
   "id": "isolated-creek",
   "metadata": {
    "code_folding": [],
    "run_control": {
     "marked": false
    }
   },
   "outputs": [],
   "source": [
    "for symbol in div_data.keys():\n",
    "    start_year = list(div_data[symbol][0].keys())[0]\n",
    "    last_year = dt.datetime.today().year - 1\n",
    "    prev_five_yrs = last_year - 6\n",
    "    prev_fifteen_yrs = last_year - 16\n",
    "    print(f\"working on {symbol} | start year = {start_year}\")\n",
    "    rate_change = []\n",
    "    for year in range(prev_five_yrs, last_year + 1):\n",
    "        rate_change.append(\n",
    "            100 * (div_data[symbol][0][year] - div_data[symbol][0][year - 1]) /\n",
    "            div_data[symbol][0][year - 1])\n",
    "    five_yrs_div_growth_avg = sum(rate_change) / len(rate_change)\n",
    "    div_data[symbol][1]['5YrsDivGrowthAvg'] = five_yrs_div_growth_avg\n",
    "    \n",
    "    rate_change = []\n",
    "    for year in range(prev_fifteen_yrs, last_year + 1):\n",
    "        rate_change.append(\n",
    "            100 * (div_data[symbol][0][year] - div_data[symbol][0][year - 1]) /\n",
    "            div_data[symbol][0][year - 1])\n",
    "    fifteen_yrs_div_growth_avg = sum(rate_change) / len(rate_change)\n",
    "    div_data[symbol][1]['15YrsDivGrowthAvg'] = fifteen_yrs_div_growth_avg"
   ]
  },
  {
   "cell_type": "code",
   "execution_count": null,
   "id": "tight-template",
   "metadata": {},
   "outputs": [],
   "source": [
    "div_data"
   ]
  },
  {
   "cell_type": "markdown",
   "id": "collected-monitoring",
   "metadata": {},
   "source": [
    "## Export & Save Dividend Data to JSON"
   ]
  },
  {
   "cell_type": "code",
   "execution_count": null,
   "id": "desirable-danger",
   "metadata": {},
   "outputs": [],
   "source": [
    "with open('data/historical_div_sp500.json', 'w') as fp:\n",
    "    json.dump(div_data, fp)"
   ]
  }
 ],
 "metadata": {
  "kernelspec": {
   "display_name": "Python 3",
   "language": "python",
   "name": "python3"
  },
  "language_info": {
   "codemirror_mode": {
    "name": "ipython",
    "version": 3
   },
   "file_extension": ".py",
   "mimetype": "text/x-python",
   "name": "python",
   "nbconvert_exporter": "python",
   "pygments_lexer": "ipython3",
   "version": "3.8.8"
  },
  "toc": {
   "base_numbering": 1,
   "nav_menu": {},
   "number_sections": true,
   "sideBar": true,
   "skip_h1_title": false,
   "title_cell": "Table of Contents",
   "title_sidebar": "Contents",
   "toc_cell": false,
   "toc_position": {},
   "toc_section_display": true,
   "toc_window_display": true
  },
  "varInspector": {
   "cols": {
    "lenName": 16,
    "lenType": 16,
    "lenVar": 40
   },
   "kernels_config": {
    "python": {
     "delete_cmd_postfix": "",
     "delete_cmd_prefix": "del ",
     "library": "var_list.py",
     "varRefreshCmd": "print(var_dic_list())"
    },
    "r": {
     "delete_cmd_postfix": ") ",
     "delete_cmd_prefix": "rm(",
     "library": "var_list.r",
     "varRefreshCmd": "cat(var_dic_list()) "
    }
   },
   "types_to_exclude": [
    "module",
    "function",
    "builtin_function_or_method",
    "instance",
    "_Feature"
   ],
   "window_display": false
  }
 },
 "nbformat": 4,
 "nbformat_minor": 5
}
