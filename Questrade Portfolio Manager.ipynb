{
 "cells": [
  {
   "cell_type": "markdown",
   "metadata": {},
   "source": [
    "# Questrade Portfolio Manager"
   ]
  },
  {
   "cell_type": "code",
   "execution_count": 1,
   "metadata": {},
   "outputs": [],
   "source": [
    "import os\n",
    "import requests\n",
    "import numpy as np\n",
    "import pandas as pd\n",
    "import datetime as dt\n",
    "import matplotlib.pyplot as plt\n",
    "from qtrade import Questrade as qt\n",
    "#from questrade_api import Questrade"
   ]
  },
  {
   "cell_type": "markdown",
   "metadata": {},
   "source": [
    "## Authentication to Questrade API"
   ]
  },
  {
   "cell_type": "code",
   "execution_count": 2,
   "metadata": {},
   "outputs": [],
   "source": [
    "try:\n",
    "    qtrade = qt(token_yaml='access_token.yml')\n",
    "except:\n",
    "    code = open(\"access_code.txt\", \"r\").read()\n",
    "    qtrade = qt(access_code=code)"
   ]
  },
  {
   "cell_type": "code",
   "execution_count": 3,
   "metadata": {},
   "outputs": [],
   "source": [
    "try:\n",
    "    acctId = qtrade.get_account_id()\n",
    "except:\n",
    "    qtrade.refresh_access_token(from_yaml=True)\n",
    "    acctId = qtrade.get_account_id()"
   ]
  },
  {
   "cell_type": "code",
   "execution_count": 4,
   "metadata": {},
   "outputs": [
    {
     "data": {
      "text/plain": [
       "['51802566']"
      ]
     },
     "execution_count": 4,
     "metadata": {},
     "output_type": "execute_result"
    }
   ],
   "source": [
    "acctId"
   ]
  },
  {
   "cell_type": "markdown",
   "metadata": {},
   "source": [
    "## Portfolio Status"
   ]
  },
  {
   "cell_type": "code",
   "execution_count": 5,
   "metadata": {},
   "outputs": [],
   "source": [
    "position_data = {\n",
    "    'Symbol': [],\n",
    "    'Description': [],\n",
    "    'Quantities': [],\n",
    "    'Market Value': [],\n",
    "    'Gain/Loss (%)': []\n",
    "}\n",
    "total_costs = 0\n",
    "total_market_value = 0\n",
    "for account in acctId:\n",
    "    positions = qtrade.get_account_positions(account)\n",
    "    for position in positions:\n",
    "        symbol = position['symbol']\n",
    "        description = qtrade.ticker_information(symbol)['description']\n",
    "        qty = position['openQuantity']\n",
    "        cmv = position['currentMarketValue']\n",
    "        #cmv_str = '$ ' + str(cmv)\n",
    "        cost = position['totalCost']\n",
    "        change = round(100 * (cmv - cost) / cost, 2)\n",
    "        change_str = str(change) + ' %'\n",
    "\n",
    "        total_market_value = total_market_value + cmv\n",
    "        total_costs = total_costs + cost\n",
    "        position_data['Symbol'].append(symbol)\n",
    "        position_data['Description'].append(description)\n",
    "        position_data['Quantities'].append(qty)\n",
    "        position_data['Market Value'].append(cmv)\n",
    "        position_data['Gain/Loss (%)'].append(change_str)"
   ]
  },
  {
   "cell_type": "code",
   "execution_count": 6,
   "metadata": {
    "scrolled": true
   },
   "outputs": [
    {
     "data": {
      "text/html": [
       "<div>\n",
       "<style scoped>\n",
       "    .dataframe tbody tr th:only-of-type {\n",
       "        vertical-align: middle;\n",
       "    }\n",
       "\n",
       "    .dataframe tbody tr th {\n",
       "        vertical-align: top;\n",
       "    }\n",
       "\n",
       "    .dataframe thead th {\n",
       "        text-align: right;\n",
       "    }\n",
       "</style>\n",
       "<table border=\"1\" class=\"dataframe\">\n",
       "  <thead>\n",
       "    <tr style=\"text-align: right;\">\n",
       "      <th></th>\n",
       "      <th>Description</th>\n",
       "      <th>Quantities</th>\n",
       "      <th>Market Value</th>\n",
       "      <th>Gain/Loss (%)</th>\n",
       "    </tr>\n",
       "    <tr>\n",
       "      <th>Symbol</th>\n",
       "      <th></th>\n",
       "      <th></th>\n",
       "      <th></th>\n",
       "      <th></th>\n",
       "    </tr>\n",
       "  </thead>\n",
       "  <tbody>\n",
       "    <tr>\n",
       "      <th>O</th>\n",
       "      <td>REALTY INCOME CORP</td>\n",
       "      <td>75</td>\n",
       "      <td>4819.50</td>\n",
       "      <td>5.0 %</td>\n",
       "    </tr>\n",
       "    <tr>\n",
       "      <th>VTI</th>\n",
       "      <td>VANGUARD INDEX FUNDS VANGUARD TOTAL STOCK MARK...</td>\n",
       "      <td>3</td>\n",
       "      <td>617.94</td>\n",
       "      <td>5.26 %</td>\n",
       "    </tr>\n",
       "    <tr>\n",
       "      <th>QQQ</th>\n",
       "      <td>INVESCO QQQ TRUST UNIT SER 1</td>\n",
       "      <td>2</td>\n",
       "      <td>633.24</td>\n",
       "      <td>-0.96 %</td>\n",
       "    </tr>\n",
       "    <tr>\n",
       "      <th>GLD</th>\n",
       "      <td>SPDR GOLD TRUST GOLD SHARES NPV</td>\n",
       "      <td>7</td>\n",
       "      <td>1123.64</td>\n",
       "      <td>-7.91 %</td>\n",
       "    </tr>\n",
       "    <tr>\n",
       "      <th>TLT</th>\n",
       "      <td>ISHARES TRUST BARCLAYS 20+ TREAS BD FD TO 07/0...</td>\n",
       "      <td>4</td>\n",
       "      <td>542.96</td>\n",
       "      <td>-10.5 %</td>\n",
       "    </tr>\n",
       "    <tr>\n",
       "      <th>IEF</th>\n",
       "      <td>ISHARES TRUST BARCLAYS 7-10 YEAR TREASURY BOND...</td>\n",
       "      <td>5</td>\n",
       "      <td>566.50</td>\n",
       "      <td>-4.5 %</td>\n",
       "    </tr>\n",
       "  </tbody>\n",
       "</table>\n",
       "</div>"
      ],
      "text/plain": [
       "                                              Description  Quantities  \\\n",
       "Symbol                                                                  \n",
       "O                                      REALTY INCOME CORP          75   \n",
       "VTI     VANGUARD INDEX FUNDS VANGUARD TOTAL STOCK MARK...           3   \n",
       "QQQ                          INVESCO QQQ TRUST UNIT SER 1           2   \n",
       "GLD                       SPDR GOLD TRUST GOLD SHARES NPV           7   \n",
       "TLT     ISHARES TRUST BARCLAYS 20+ TREAS BD FD TO 07/0...           4   \n",
       "IEF     ISHARES TRUST BARCLAYS 7-10 YEAR TREASURY BOND...           5   \n",
       "\n",
       "        Market Value Gain/Loss (%)  \n",
       "Symbol                              \n",
       "O            4819.50         5.0 %  \n",
       "VTI           617.94        5.26 %  \n",
       "QQQ           633.24       -0.96 %  \n",
       "GLD          1123.64       -7.91 %  \n",
       "TLT           542.96       -10.5 %  \n",
       "IEF           566.50        -4.5 %  "
      ]
     },
     "execution_count": 6,
     "metadata": {},
     "output_type": "execute_result"
    }
   ],
   "source": [
    "portfolio = pd.DataFrame(position_data)\n",
    "portfolio.set_index('Symbol', inplace=True)\n",
    "portfolio"
   ]
  },
  {
   "cell_type": "code",
   "execution_count": 7,
   "metadata": {},
   "outputs": [],
   "source": [
    "portfolio['%Portfolio'] = [\n",
    "    round(100 * (x / total_market_value), 2) for x in portfolio['Market Value']\n",
    "]"
   ]
  },
  {
   "cell_type": "code",
   "execution_count": 8,
   "metadata": {},
   "outputs": [
    {
     "data": {
      "text/plain": [
       "<AxesSubplot:title={'center':'Portfolio Breakdown'}, ylabel='%Portfolio'>"
      ]
     },
     "execution_count": 8,
     "metadata": {},
     "output_type": "execute_result"
    },
    {
     "data": {
      "image/png": "[encoded data removed]",
      "text/plain": [
       "<Figure size 720x720 with 1 Axes>"
      ]
     },
     "metadata": {},
     "output_type": "display_data"
    }
   ],
   "source": [
    "portfolio['%Portfolio'].plot(kind='pie',\n",
    "                             title='Portfolio Breakdown',\n",
    "                             figsize=(10, 10),\n",
    "                             legend=True)"
   ]
  },
  {
   "cell_type": "markdown",
   "metadata": {},
   "source": [
    "## Monthly Dividend Income"
   ]
  },
  {
   "cell_type": "code",
   "execution_count": 9,
   "metadata": {},
   "outputs": [],
   "source": [
    "startDate = '2018-04-01'\n",
    "endDate = dt.date.today().strftime(\"%Y-%m-%d\")\n",
    "dtrange = pd.date_range(startDate, endDate, freq='d')\n",
    "months = pd.Series(dtrange.month)\n",
    "starts, ends = months.ne(months.shift(1)), months.ne(months.shift(-1))\n",
    "startEndDates = pd.DataFrame({\n",
    "    'month_starting_date':\n",
    "    dtrange[starts].strftime('%Y-%m-%d'),\n",
    "    'month_ending_date':\n",
    "    dtrange[ends].strftime('%Y-%m-%d')\n",
    "})\n",
    "dateList = startEndDates.values.tolist()"
   ]
  },
  {
   "cell_type": "code",
   "execution_count": 10,
   "metadata": {
    "code_folding": []
   },
   "outputs": [],
   "source": [
    "output = {}\n",
    "total_div_earned = 0\n",
    "\n",
    "for date in dateList:\n",
    "    start = date[0]\n",
    "    end = date[1]\n",
    "    activities = qtrade.get_account_activities(acctId[0], start, end)\n",
    "    monthly_div = 0\n",
    "    for activity in activities:\n",
    "        if activity['type'] == 'Dividends':\n",
    "            monthly_div = monthly_div + activity['netAmount']\n",
    "    output[dt.datetime.strptime(start,\n",
    "                                \"%Y-%m-%d\").strftime(\"%Y-%m\")] = monthly_div\n",
    "    total_div_earned = total_div_earned + monthly_div"
   ]
  },
  {
   "cell_type": "code",
   "execution_count": 11,
   "metadata": {},
   "outputs": [],
   "source": [
    "monthly_div_df = pd.DataFrame.from_dict(output,\n",
    "                                        orient='index',\n",
    "                                        columns=['Monthly_Dividend_Income'])"
   ]
  },
  {
   "cell_type": "markdown",
   "metadata": {},
   "source": [
    "## Dividend Income History with Bar Chart Visualization"
   ]
  },
  {
   "cell_type": "code",
   "execution_count": 12,
   "metadata": {},
   "outputs": [
    {
     "data": {
      "text/plain": [
       "<AxesSubplot:title={'center':'Monthly Dividend Payments'}, xlabel='Months', ylabel='Dividend ($)'>"
      ]
     },
     "execution_count": 12,
     "metadata": {},
     "output_type": "execute_result"
    },
    {
     "data": {
      "image/png": "[encoded data removed]",
      "text/plain": [
       "<Figure size 1080x720 with 1 Axes>"
      ]
     },
     "metadata": {
      "needs_background": "light"
     },
     "output_type": "display_data"
    }
   ],
   "source": [
    "monthly_div_df.plot(kind='bar',\n",
    "                    title='Monthly Dividend Payments',\n",
    "                    xlabel='Months',\n",
    "                    ylabel='Dividend ($)',\n",
    "                    figsize=(15, 10),\n",
    "                    legend=False,\n",
    "                    ylim=(0, 10))"
   ]
  },
  {
   "cell_type": "markdown",
   "metadata": {},
   "source": [
    "## Portfolio Summary"
   ]
  },
  {
   "cell_type": "code",
   "execution_count": 13,
   "metadata": {},
   "outputs": [
    {
     "data": {
      "text/html": [
       "<div>\n",
       "<style scoped>\n",
       "    .dataframe tbody tr th:only-of-type {\n",
       "        vertical-align: middle;\n",
       "    }\n",
       "\n",
       "    .dataframe tbody tr th {\n",
       "        vertical-align: top;\n",
       "    }\n",
       "\n",
       "    .dataframe thead th {\n",
       "        text-align: right;\n",
       "    }\n",
       "</style>\n",
       "<table border=\"1\" class=\"dataframe\">\n",
       "  <thead>\n",
       "    <tr style=\"text-align: right;\">\n",
       "      <th></th>\n",
       "      <th>Portfolio Return (%)</th>\n",
       "      <th>Total Dividend Earned ($)</th>\n",
       "    </tr>\n",
       "  </thead>\n",
       "  <tbody>\n",
       "    <tr>\n",
       "      <th>0</th>\n",
       "      <td>0.81837</td>\n",
       "      <td>74.53</td>\n",
       "    </tr>\n",
       "  </tbody>\n",
       "</table>\n",
       "</div>"
      ],
      "text/plain": [
       "   Portfolio Return (%)  Total Dividend Earned ($)\n",
       "0               0.81837                      74.53"
      ]
     },
     "execution_count": 13,
     "metadata": {},
     "output_type": "execute_result"
    }
   ],
   "source": [
    "summary = {'Portfolio Return (%)': [], 'Total Dividend Earned ($)': []}\n",
    "summary['Portfolio Return (%)'].append(\n",
    "    100 * (total_market_value - total_costs) / total_costs)\n",
    "summary['Total Dividend Earned ($)'].append(total_div_earned)\n",
    "summary_df = pd.DataFrame(summary)\n",
    "summary_df"
   ]
  }
 ],
 "metadata": {
  "kernelspec": {
   "display_name": "Python 3",
   "language": "python",
   "name": "python3"
  },
  "language_info": {
   "codemirror_mode": {
    "name": "ipython",
    "version": 3
   },
   "file_extension": ".py",
   "mimetype": "text/x-python",
   "name": "python",
   "nbconvert_exporter": "python",
   "pygments_lexer": "ipython3",
   "version": "3.8.5"
  },
  "toc": {
   "base_numbering": 1,
   "nav_menu": {},
   "number_sections": true,
   "sideBar": true,
   "skip_h1_title": true,
   "title_cell": "Table of Contents",
   "title_sidebar": "Contents",
   "toc_cell": false,
   "toc_position": {},
   "toc_section_display": true,
   "toc_window_display": true
  },
  "varInspector": {
   "cols": {
    "lenName": 16,
    "lenType": 16,
    "lenVar": 40
   },
   "kernels_config": {
    "python": {
     "delete_cmd_postfix": "",
     "delete_cmd_prefix": "del ",
     "library": "var_list.py",
     "varRefreshCmd": "print(var_dic_list())"
    },
    "r": {
     "delete_cmd_postfix": ") ",
     "delete_cmd_prefix": "rm(",
     "library": "var_list.r",
     "varRefreshCmd": "cat(var_dic_list()) "
    }
   },
   "types_to_exclude": [
    "module",
    "function",
    "builtin_function_or_method",
    "instance",
    "_Feature"
   ],
   "window_display": false
  }
 },
 "nbformat": 4,
 "nbformat_minor": 4
}
