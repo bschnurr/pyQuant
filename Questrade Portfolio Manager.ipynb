{
 "cells": [
  {
   "cell_type": "markdown",
   "metadata": {},
   "source": [
    "# Questrade Portfolio Overview"
   ]
  },
  {
   "cell_type": "code",
   "execution_count": null,
   "metadata": {},
   "outputs": [],
   "source": [
    "import os\n",
    "import math\n",
    "import ratios\n",
    "import requests\n",
    "import momentum\n",
    "import pyticker\n",
    "import dividend\n",
    "import questrade\n",
    "import numpy as np\n",
    "import pandas as pd\n",
    "import datetime as dt\n",
    "import matplotlib.pyplot as plt\n",
    "from qtrade import Questrade as qt\n",
    "import pandas_datareader.data as web\n",
    "#from questrade_api import Questrade"
   ]
  },
  {
   "cell_type": "markdown",
   "metadata": {},
   "source": [
    "## Account Balance Summary"
   ]
  },
  {
   "cell_type": "code",
   "execution_count": null,
   "metadata": {},
   "outputs": [],
   "source": [
    "balance = questrade.get_balance()\n",
    "balance"
   ]
  },
  {
   "cell_type": "markdown",
   "metadata": {},
   "source": [
    "## Position & Performance Summary"
   ]
  },
  {
   "cell_type": "code",
   "execution_count": null,
   "metadata": {},
   "outputs": [],
   "source": [
    "portfolio = questrade.get_positions()"
   ]
  },
  {
   "cell_type": "code",
   "execution_count": null,
   "metadata": {},
   "outputs": [],
   "source": [
    "portfolio['%Portfolio'].plot(kind='pie',\n",
    "                             title='Portfolio Breakdown',\n",
    "                             figsize=(10, 10),\n",
    "                             legend=True)"
   ]
  },
  {
   "cell_type": "code",
   "execution_count": null,
   "metadata": {},
   "outputs": [],
   "source": [
    "portfolio = portfolio.style.applymap(questrade.color_negative_red, subset=['Gain/Loss (%)'])\n",
    "portfolio"
   ]
  },
  {
   "cell_type": "markdown",
   "metadata": {},
   "source": [
    "## Monthly Dividend Income"
   ]
  },
  {
   "cell_type": "code",
   "execution_count": null,
   "metadata": {},
   "outputs": [],
   "source": [
    "div = questrade.get_dividend_income()\n",
    "div.loc['Total'] = div.sum(numeric_only=True, axis=0)\n",
    "div"
   ]
  },
  {
   "cell_type": "code",
   "execution_count": null,
   "metadata": {},
   "outputs": [],
   "source": [
    "div[:-1].plot(kind='bar',\n",
    "                    title='Monthly Dividend Payments',\n",
    "                    xlabel='Months',\n",
    "                    ylabel='Dividend ($)',\n",
    "                    figsize=(15, 10),\n",
    "                    legend=False,\n",
    "                    ylim=(0, 30))"
   ]
  },
  {
   "cell_type": "markdown",
   "metadata": {},
   "source": [
    "## Global Macro Momentum"
   ]
  },
  {
   "cell_type": "code",
   "execution_count": null,
   "metadata": {},
   "outputs": [],
   "source": [
    "global_macro = ['SPY', 'QQQ', 'TLT', 'IEF', 'GLD', 'DBC']\n",
    "period = [1,3,6,12,24,36,48,60]\n",
    "\n",
    "data = {'Symbol': [], 'Momentum': []}\n",
    "count = 0\n",
    "for symbol in global_macro:\n",
    "    count += 1\n",
    "    print(f\"{count}/{len(global_macro)}\")\n",
    "    data['Symbol'].append(symbol)\n",
    "    data['Momentum'].append(momentum.calculate_equal_weight_momentum(symbol, period))\n",
    "momentum_df = pd.DataFrame(data)\n",
    "momentum_df.set_index('Symbol')\n",
    "momentum_df.sort_values(by='Momentum',inplace=True, ascending=False)\n",
    "momentum_df"
   ]
  },
  {
   "cell_type": "markdown",
   "metadata": {},
   "source": [
    "## US Sector Momentum"
   ]
  },
  {
   "cell_type": "code",
   "execution_count": null,
   "metadata": {},
   "outputs": [],
   "source": [
    "sector_df = pyticker.get_sector_df()\n",
    "period = [1,3,6,12]\n",
    "count = 0\n",
    "for x in list(sector_df.index):\n",
    "    count += 1\n",
    "    print(f\"{count}/{len(list(sector_df.index))}\")\n",
    "    sector_df.loc[x,'Momentum'] = momentum.calculate_equal_weight_momentum(x, period)"
   ]
  },
  {
   "cell_type": "code",
   "execution_count": null,
   "metadata": {},
   "outputs": [],
   "source": [
    "sector_df.sort_values(by='Momentum', inplace=True, ascending=False)\n",
    "sector_df"
   ]
  },
  {
   "cell_type": "markdown",
   "metadata": {},
   "source": [
    "## Dow Jones Equity Momentum"
   ]
  },
  {
   "cell_type": "code",
   "execution_count": null,
   "metadata": {},
   "outputs": [],
   "source": [
    "symbols = pyticker.get_symbols_by_index('DOW JONES')\n",
    "\n",
    "data = {'Symbol': [], 'Momentum': []}\n",
    "count = 0\n",
    "for symbol in symbols:\n",
    "    count += 1\n",
    "    print(f\"{count}/{len(symbols)}\")\n",
    "    data['Symbol'].append(symbol)\n",
    "    try:\n",
    "        data['Momentum'].append(momentum.calculate_equal_weight_momentum(symbol, [1,3,6,12,24,36]))\n",
    "    except:\n",
    "        data['Momentum'].append(0)\n",
    "\n",
    "df = pd.DataFrame(data)\n",
    "df.set_index('Symbol', inplace=True)\n",
    "df"
   ]
  },
  {
   "cell_type": "code",
   "execution_count": null,
   "metadata": {},
   "outputs": [],
   "source": [
    "df = df.sort_values(by='Momentum', ascending=False)\n",
    "df"
   ]
  },
  {
   "cell_type": "code",
   "execution_count": null,
   "metadata": {},
   "outputs": [],
   "source": [
    "top_ten = df.head(10)\n",
    "top_ten"
   ]
  },
  {
   "cell_type": "code",
   "execution_count": null,
   "metadata": {},
   "outputs": [],
   "source": [
    "data = {'Symbol': [], 'Revenue_Growth': [], 'ROE': [], 'Dividend_Growth': [], 'Dividend_Yield': []}\n",
    "\n",
    "PERIOD = 20\n",
    "\n",
    "for symbol in top_ten.index:\n",
    "    print(symbol)\n",
    "    fr = ratios.get_financial_ratios(symbol)\n",
    "    data['Symbol'].append(symbol)\n",
    "    data['Revenue_Growth'].append(fr.loc['revenueGrowth','Value'])\n",
    "    data['ROE'].append(fr.loc['returnOnEquityTTM','Value'])\n",
    "    data['Dividend_Growth'].append(dividend.calcualte_avg_dividend_growth(symbol,20))\n",
    "    data['Dividend_Yield'].append(dividend.calculate_current_dividend_yield(symbol))\n",
    "\n",
    "data"
   ]
  },
  {
   "cell_type": "code",
   "execution_count": null,
   "metadata": {},
   "outputs": [],
   "source": [
    "ratio_df = pd.DataFrame(data)\n",
    "ratio_df.set_index('Symbol', inplace=True)\n",
    "ratio_df = ratio_df[(ratio_df['Revenue_Growth'] > 0.02) & (ratio_df['ROE'] > 0.10)]\n",
    "ratio_df"
   ]
  },
  {
   "cell_type": "code",
   "execution_count": null,
   "metadata": {},
   "outputs": [],
   "source": []
  },
  {
   "cell_type": "code",
   "execution_count": null,
   "metadata": {},
   "outputs": [],
   "source": []
  }
 ],
 "metadata": {
  "kernelspec": {
   "display_name": "Python 3",
   "language": "python",
   "name": "python3"
  },
  "language_info": {
   "codemirror_mode": {
    "name": "ipython",
    "version": 3
   },
   "file_extension": ".py",
   "mimetype": "text/x-python",
   "name": "python",
   "nbconvert_exporter": "python",
   "pygments_lexer": "ipython3",
   "version": "3.8.8"
  },
  "toc": {
   "base_numbering": 1,
   "nav_menu": {},
   "number_sections": true,
   "sideBar": true,
   "skip_h1_title": true,
   "title_cell": "Table of Contents",
   "title_sidebar": "Contents",
   "toc_cell": false,
   "toc_position": {
    "height": "calc(100% - 180px)",
    "left": "10px",
    "top": "150px",
    "width": "384px"
   },
   "toc_section_display": true,
   "toc_window_display": true
  },
  "varInspector": {
   "cols": {
    "lenName": 16,
    "lenType": 16,
    "lenVar": 40
   },
   "kernels_config": {
    "python": {
     "delete_cmd_postfix": "",
     "delete_cmd_prefix": "del ",
     "library": "var_list.py",
     "varRefreshCmd": "print(var_dic_list())"
    },
    "r": {
     "delete_cmd_postfix": ") ",
     "delete_cmd_prefix": "rm(",
     "library": "var_list.r",
     "varRefreshCmd": "cat(var_dic_list()) "
    }
   },
   "types_to_exclude": [
    "module",
    "function",
    "builtin_function_or_method",
    "instance",
    "_Feature"
   ],
   "window_display": false
  }
 },
 "nbformat": 4,
 "nbformat_minor": 4
}
