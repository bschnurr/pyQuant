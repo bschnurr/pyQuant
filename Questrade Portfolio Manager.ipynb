{
 "cells": [
  {
   "cell_type": "markdown",
   "metadata": {},
   "source": [
    "# Questrade Portfolio Manager"
   ]
  },
  {
   "cell_type": "code",
   "execution_count": 1,
   "metadata": {},
   "outputs": [],
   "source": [
    "import os\n",
    "import math\n",
    "import requests\n",
    "import numpy as np\n",
    "import pandas as pd\n",
    "import datetime as dt\n",
    "import matplotlib.pyplot as plt\n",
    "from qtrade import Questrade as qt\n",
    "import pandas_datareader.data as web\n",
    "#from questrade_api import Questrade"
   ]
  },
  {
   "cell_type": "markdown",
   "metadata": {},
   "source": [
    "## Authentication to Questrade API"
   ]
  },
  {
   "cell_type": "code",
   "execution_count": 2,
   "metadata": {},
   "outputs": [],
   "source": [
    "try:\n",
    "    qtrade = qt(token_yaml='access_token.yml')\n",
    "except:\n",
    "    code = open(\"access_code.txt\", \"r\").read()\n",
    "    try:\n",
    "        qtrade = qt(access_code=code)\n",
    "    except:\n",
    "        qtrade.refresh_access_token(from_yaml=True)"
   ]
  },
  {
   "cell_type": "code",
   "execution_count": 4,
   "metadata": {},
   "outputs": [
    {
     "data": {
      "text/plain": [
       "{'perCurrencyBalances': [{'currency': 'CAD',\n",
       "   'cash': 31785.3365,\n",
       "   'marketValue': 0,\n",
       "   'totalEquity': 31785.3365,\n",
       "   'buyingPower': 31785.3365,\n",
       "   'maintenanceExcess': 31785.3365,\n",
       "   'isRealTime': True},\n",
       "  {'currency': 'USD',\n",
       "   'cash': 21634.7515,\n",
       "   'marketValue': 10012.39,\n",
       "   'totalEquity': 31647.1415,\n",
       "   'buyingPower': 21634.7515,\n",
       "   'maintenanceExcess': 21634.7515,\n",
       "   'isRealTime': True}],\n",
       " 'combinedBalances': [{'currency': 'CAD',\n",
       "   'cash': 58902.33403,\n",
       "   'marketValue': 12549.529626,\n",
       "   'totalEquity': 71451.863656,\n",
       "   'buyingPower': 58902.33403,\n",
       "   'maintenanceExcess': 58902.33403,\n",
       "   'isRealTime': True},\n",
       "  {'currency': 'USD',\n",
       "   'cash': 46994.043426,\n",
       "   'marketValue': 10012.39,\n",
       "   'totalEquity': 57006.433426,\n",
       "   'buyingPower': 46994.043426,\n",
       "   'maintenanceExcess': 46994.043426,\n",
       "   'isRealTime': True}],\n",
       " 'sodPerCurrencyBalances': [{'currency': 'CAD',\n",
       "   'cash': 31785.3365,\n",
       "   'marketValue': 0,\n",
       "   'totalEquity': 31785.3365,\n",
       "   'buyingPower': 31785.3365,\n",
       "   'maintenanceExcess': 31785.3365,\n",
       "   'isRealTime': True},\n",
       "  {'currency': 'USD',\n",
       "   'cash': 23156.0515,\n",
       "   'marketValue': 8543.58,\n",
       "   'totalEquity': 31699.6315,\n",
       "   'buyingPower': 23156.0515,\n",
       "   'maintenanceExcess': 23156.0515,\n",
       "   'isRealTime': True}],\n",
       " 'sodCombinedBalances': [{'currency': 'CAD',\n",
       "   'cash': 60809.13145,\n",
       "   'marketValue': 10708.523172,\n",
       "   'totalEquity': 71517.654622,\n",
       "   'buyingPower': 60809.13145,\n",
       "   'maintenanceExcess': 60809.13145,\n",
       "   'isRealTime': True},\n",
       "  {'currency': 'USD',\n",
       "   'cash': 48515.343426,\n",
       "   'marketValue': 8543.58,\n",
       "   'totalEquity': 57058.923426,\n",
       "   'buyingPower': 48515.343426,\n",
       "   'maintenanceExcess': 48515.343426,\n",
       "   'isRealTime': True}]}"
      ]
     },
     "execution_count": 4,
     "metadata": {},
     "output_type": "execute_result"
    }
   ],
   "source": [
    "# Define Request Call to Get Balance from Questrade API (Not Implemented in qtrade)\n",
    "token = qtrade.access_token\n",
    "token_type = token['token_type']\n",
    "access_token = token['access_token']\n",
    "url = token['api_server'] + '/v1/accounts/' + acctId[0] + '/balances'\n",
    "bal = requests.get(url,\n",
    "                   headers={'Authorization': f'{token_type} {access_token}'})\n",
    "balance = bal.json()\n",
    "balance"
   ]
  },
  {
   "cell_type": "markdown",
   "metadata": {},
   "source": [
    "## Position Summary"
   ]
  },
  {
   "cell_type": "code",
   "execution_count": 5,
   "metadata": {},
   "outputs": [],
   "source": [
    "# qtrade.ticker_information('MO')"
   ]
  },
  {
   "cell_type": "code",
   "execution_count": 6,
   "metadata": {},
   "outputs": [],
   "source": [
    "position_data = {\n",
    "    'Symbol': [],\n",
    "    'Description': [],\n",
    "    'Currency': [],\n",
    "    'Quantities': [],\n",
    "    'Market Value': [],\n",
    "    'Gain/Loss (%)': []\n",
    "}\n",
    "total_costs = 0\n",
    "total_market_value = 0\n",
    "for account in acctId:\n",
    "    positions = qtrade.get_account_positions(account)\n",
    "    for position in positions:\n",
    "        symbol = position['symbol']\n",
    "        description = qtrade.ticker_information(symbol)['description']\n",
    "        qty = position['openQuantity']\n",
    "        cmv = position['currentMarketValue']\n",
    "        currency = qtrade.ticker_information(symbol)['currency']\n",
    "        cost = position['totalCost']\n",
    "        change = round(100 * (cmv - cost) / cost, 2)\n",
    "\n",
    "        total_market_value = total_market_value + cmv\n",
    "        total_costs = total_costs + cost\n",
    "        position_data['Symbol'].append(symbol)\n",
    "        position_data['Description'].append(description)\n",
    "        position_data['Currency'].append(currency)\n",
    "        position_data['Quantities'].append(qty)\n",
    "        position_data['Market Value'].append(cmv)\n",
    "        position_data['Gain/Loss (%)'].append(change)"
   ]
  },
  {
   "cell_type": "code",
   "execution_count": 7,
   "metadata": {
    "scrolled": true
   },
   "outputs": [
    {
     "data": {
      "text/html": [
       "<div>\n",
       "<style scoped>\n",
       "    .dataframe tbody tr th:only-of-type {\n",
       "        vertical-align: middle;\n",
       "    }\n",
       "\n",
       "    .dataframe tbody tr th {\n",
       "        vertical-align: top;\n",
       "    }\n",
       "\n",
       "    .dataframe thead th {\n",
       "        text-align: right;\n",
       "    }\n",
       "</style>\n",
       "<table border=\"1\" class=\"dataframe\">\n",
       "  <thead>\n",
       "    <tr style=\"text-align: right;\">\n",
       "      <th></th>\n",
       "      <th>Description</th>\n",
       "      <th>Currency</th>\n",
       "      <th>Quantities</th>\n",
       "      <th>Market Value</th>\n",
       "      <th>Gain/Loss (%)</th>\n",
       "    </tr>\n",
       "    <tr>\n",
       "      <th>Symbol</th>\n",
       "      <th></th>\n",
       "      <th></th>\n",
       "      <th></th>\n",
       "      <th></th>\n",
       "      <th></th>\n",
       "    </tr>\n",
       "  </thead>\n",
       "  <tbody>\n",
       "    <tr>\n",
       "      <th>MMM</th>\n",
       "      <td>3M COMPANY</td>\n",
       "      <td>USD</td>\n",
       "      <td>3</td>\n",
       "      <td>590.04</td>\n",
       "      <td>-0.10</td>\n",
       "    </tr>\n",
       "    <tr>\n",
       "      <th>O</th>\n",
       "      <td>REALTY INCOME CORP</td>\n",
       "      <td>USD</td>\n",
       "      <td>75</td>\n",
       "      <td>4924.50</td>\n",
       "      <td>7.29</td>\n",
       "    </tr>\n",
       "    <tr>\n",
       "      <th>JPM</th>\n",
       "      <td>JPMORGAN CHASE &amp; CO.</td>\n",
       "      <td>USD</td>\n",
       "      <td>6</td>\n",
       "      <td>920.22</td>\n",
       "      <td>-0.06</td>\n",
       "    </tr>\n",
       "    <tr>\n",
       "      <th>VTI</th>\n",
       "      <td>VANGUARD INDEX FUNDS VANGUARD TOTAL STOCK MARK...</td>\n",
       "      <td>USD</td>\n",
       "      <td>3</td>\n",
       "      <td>646.35</td>\n",
       "      <td>10.10</td>\n",
       "    </tr>\n",
       "    <tr>\n",
       "      <th>QQQ</th>\n",
       "      <td>INVESCO QQQ TRUST UNIT SER 1</td>\n",
       "      <td>USD</td>\n",
       "      <td>2</td>\n",
       "      <td>676.90</td>\n",
       "      <td>5.87</td>\n",
       "    </tr>\n",
       "    <tr>\n",
       "      <th>GLD</th>\n",
       "      <td>SPDR GOLD TRUST GOLD SHARES NPV</td>\n",
       "      <td>USD</td>\n",
       "      <td>7</td>\n",
       "      <td>1138.13</td>\n",
       "      <td>-6.72</td>\n",
       "    </tr>\n",
       "    <tr>\n",
       "      <th>TLT</th>\n",
       "      <td>ISHARES TRUST BARCLAYS 20+ TREAS BD FD TO 07/0...</td>\n",
       "      <td>USD</td>\n",
       "      <td>4</td>\n",
       "      <td>551.76</td>\n",
       "      <td>-9.05</td>\n",
       "    </tr>\n",
       "    <tr>\n",
       "      <th>IEF</th>\n",
       "      <td>ISHARES TRUST BARCLAYS 7-10 YEAR TREASURY BOND...</td>\n",
       "      <td>USD</td>\n",
       "      <td>5</td>\n",
       "      <td>569.05</td>\n",
       "      <td>-4.07</td>\n",
       "    </tr>\n",
       "  </tbody>\n",
       "</table>\n",
       "</div>"
      ],
      "text/plain": [
       "                                              Description Currency  \\\n",
       "Symbol                                                               \n",
       "MMM                                            3M COMPANY      USD   \n",
       "O                                      REALTY INCOME CORP      USD   \n",
       "JPM                                  JPMORGAN CHASE & CO.      USD   \n",
       "VTI     VANGUARD INDEX FUNDS VANGUARD TOTAL STOCK MARK...      USD   \n",
       "QQQ                          INVESCO QQQ TRUST UNIT SER 1      USD   \n",
       "GLD                       SPDR GOLD TRUST GOLD SHARES NPV      USD   \n",
       "TLT     ISHARES TRUST BARCLAYS 20+ TREAS BD FD TO 07/0...      USD   \n",
       "IEF     ISHARES TRUST BARCLAYS 7-10 YEAR TREASURY BOND...      USD   \n",
       "\n",
       "        Quantities  Market Value  Gain/Loss (%)  \n",
       "Symbol                                           \n",
       "MMM              3        590.04          -0.10  \n",
       "O               75       4924.50           7.29  \n",
       "JPM              6        920.22          -0.06  \n",
       "VTI              3        646.35          10.10  \n",
       "QQQ              2        676.90           5.87  \n",
       "GLD              7       1138.13          -6.72  \n",
       "TLT              4        551.76          -9.05  \n",
       "IEF              5        569.05          -4.07  "
      ]
     },
     "execution_count": 7,
     "metadata": {},
     "output_type": "execute_result"
    }
   ],
   "source": [
    "portfolio = pd.DataFrame(position_data)\n",
    "portfolio.set_index('Symbol', inplace=True)\n",
    "portfolio"
   ]
  },
  {
   "cell_type": "code",
   "execution_count": 8,
   "metadata": {},
   "outputs": [],
   "source": [
    "total_equity = balance['perCurrencyBalances'][1]['totalEquity']\n",
    "portfolio['%Portfolio'] = [\n",
    "    round(100 * (x / total_equity), 2) for x in portfolio['Market Value']\n",
    "]"
   ]
  },
  {
   "cell_type": "code",
   "execution_count": 9,
   "metadata": {},
   "outputs": [
    {
     "data": {
      "text/html": [
       "<div>\n",
       "<style scoped>\n",
       "    .dataframe tbody tr th:only-of-type {\n",
       "        vertical-align: middle;\n",
       "    }\n",
       "\n",
       "    .dataframe tbody tr th {\n",
       "        vertical-align: top;\n",
       "    }\n",
       "\n",
       "    .dataframe thead th {\n",
       "        text-align: right;\n",
       "    }\n",
       "</style>\n",
       "<table border=\"1\" class=\"dataframe\">\n",
       "  <thead>\n",
       "    <tr style=\"text-align: right;\">\n",
       "      <th></th>\n",
       "      <th>Description</th>\n",
       "      <th>Currency</th>\n",
       "      <th>Quantities</th>\n",
       "      <th>Market Value</th>\n",
       "      <th>Gain/Loss (%)</th>\n",
       "      <th>%Portfolio</th>\n",
       "    </tr>\n",
       "    <tr>\n",
       "      <th>Symbol</th>\n",
       "      <th></th>\n",
       "      <th></th>\n",
       "      <th></th>\n",
       "      <th></th>\n",
       "      <th></th>\n",
       "      <th></th>\n",
       "    </tr>\n",
       "  </thead>\n",
       "  <tbody>\n",
       "    <tr>\n",
       "      <th>MMM</th>\n",
       "      <td>3M COMPANY</td>\n",
       "      <td>USD</td>\n",
       "      <td>3</td>\n",
       "      <td>590.04</td>\n",
       "      <td>-0.10</td>\n",
       "      <td>1.86</td>\n",
       "    </tr>\n",
       "    <tr>\n",
       "      <th>O</th>\n",
       "      <td>REALTY INCOME CORP</td>\n",
       "      <td>USD</td>\n",
       "      <td>75</td>\n",
       "      <td>4924.50</td>\n",
       "      <td>7.29</td>\n",
       "      <td>15.56</td>\n",
       "    </tr>\n",
       "    <tr>\n",
       "      <th>JPM</th>\n",
       "      <td>JPMORGAN CHASE &amp; CO.</td>\n",
       "      <td>USD</td>\n",
       "      <td>6</td>\n",
       "      <td>920.22</td>\n",
       "      <td>-0.06</td>\n",
       "      <td>2.91</td>\n",
       "    </tr>\n",
       "    <tr>\n",
       "      <th>VTI</th>\n",
       "      <td>VANGUARD INDEX FUNDS VANGUARD TOTAL STOCK MARK...</td>\n",
       "      <td>USD</td>\n",
       "      <td>3</td>\n",
       "      <td>646.35</td>\n",
       "      <td>10.10</td>\n",
       "      <td>2.04</td>\n",
       "    </tr>\n",
       "    <tr>\n",
       "      <th>QQQ</th>\n",
       "      <td>INVESCO QQQ TRUST UNIT SER 1</td>\n",
       "      <td>USD</td>\n",
       "      <td>2</td>\n",
       "      <td>676.90</td>\n",
       "      <td>5.87</td>\n",
       "      <td>2.14</td>\n",
       "    </tr>\n",
       "    <tr>\n",
       "      <th>GLD</th>\n",
       "      <td>SPDR GOLD TRUST GOLD SHARES NPV</td>\n",
       "      <td>USD</td>\n",
       "      <td>7</td>\n",
       "      <td>1138.13</td>\n",
       "      <td>-6.72</td>\n",
       "      <td>3.60</td>\n",
       "    </tr>\n",
       "    <tr>\n",
       "      <th>TLT</th>\n",
       "      <td>ISHARES TRUST BARCLAYS 20+ TREAS BD FD TO 07/0...</td>\n",
       "      <td>USD</td>\n",
       "      <td>4</td>\n",
       "      <td>551.76</td>\n",
       "      <td>-9.05</td>\n",
       "      <td>1.74</td>\n",
       "    </tr>\n",
       "    <tr>\n",
       "      <th>IEF</th>\n",
       "      <td>ISHARES TRUST BARCLAYS 7-10 YEAR TREASURY BOND...</td>\n",
       "      <td>USD</td>\n",
       "      <td>5</td>\n",
       "      <td>569.05</td>\n",
       "      <td>-4.07</td>\n",
       "      <td>1.80</td>\n",
       "    </tr>\n",
       "  </tbody>\n",
       "</table>\n",
       "</div>"
      ],
      "text/plain": [
       "                                              Description Currency  \\\n",
       "Symbol                                                               \n",
       "MMM                                            3M COMPANY      USD   \n",
       "O                                      REALTY INCOME CORP      USD   \n",
       "JPM                                  JPMORGAN CHASE & CO.      USD   \n",
       "VTI     VANGUARD INDEX FUNDS VANGUARD TOTAL STOCK MARK...      USD   \n",
       "QQQ                          INVESCO QQQ TRUST UNIT SER 1      USD   \n",
       "GLD                       SPDR GOLD TRUST GOLD SHARES NPV      USD   \n",
       "TLT     ISHARES TRUST BARCLAYS 20+ TREAS BD FD TO 07/0...      USD   \n",
       "IEF     ISHARES TRUST BARCLAYS 7-10 YEAR TREASURY BOND...      USD   \n",
       "\n",
       "        Quantities  Market Value  Gain/Loss (%)  %Portfolio  \n",
       "Symbol                                                       \n",
       "MMM              3        590.04          -0.10        1.86  \n",
       "O               75       4924.50           7.29       15.56  \n",
       "JPM              6        920.22          -0.06        2.91  \n",
       "VTI              3        646.35          10.10        2.04  \n",
       "QQQ              2        676.90           5.87        2.14  \n",
       "GLD              7       1138.13          -6.72        3.60  \n",
       "TLT              4        551.76          -9.05        1.74  \n",
       "IEF              5        569.05          -4.07        1.80  "
      ]
     },
     "execution_count": 9,
     "metadata": {},
     "output_type": "execute_result"
    }
   ],
   "source": [
    "portfolio"
   ]
  },
  {
   "cell_type": "code",
   "execution_count": 10,
   "metadata": {},
   "outputs": [
    {
     "data": {
      "text/plain": [
       "<AxesSubplot:title={'center':'Portfolio Breakdown'}, ylabel='%Portfolio'>"
      ]
     },
     "execution_count": 10,
     "metadata": {},
     "output_type": "execute_result"
    },
    {
     "data": {
      "image/png": "[encoded data removed]",
      "text/plain": [
       "<Figure size 720x720 with 1 Axes>"
      ]
     },
     "metadata": {},
     "output_type": "display_data"
    }
   ],
   "source": [
    "portfolio['%Portfolio'].plot(kind='pie',\n",
    "                             title='Portfolio Breakdown',\n",
    "                             figsize=(10, 10),\n",
    "                             legend=True)"
   ]
  },
  {
   "cell_type": "markdown",
   "metadata": {},
   "source": [
    "## Account Balance Summary"
   ]
  },
  {
   "cell_type": "code",
   "execution_count": 11,
   "metadata": {},
   "outputs": [
    {
     "data": {
      "text/html": [
       "<div>\n",
       "<style scoped>\n",
       "    .dataframe tbody tr th:only-of-type {\n",
       "        vertical-align: middle;\n",
       "    }\n",
       "\n",
       "    .dataframe tbody tr th {\n",
       "        vertical-align: top;\n",
       "    }\n",
       "\n",
       "    .dataframe thead th {\n",
       "        text-align: right;\n",
       "    }\n",
       "</style>\n",
       "<table border=\"1\" class=\"dataframe\">\n",
       "  <thead>\n",
       "    <tr style=\"text-align: right;\">\n",
       "      <th></th>\n",
       "      <th>CAD</th>\n",
       "      <th>USD</th>\n",
       "    </tr>\n",
       "    <tr>\n",
       "      <th>Category</th>\n",
       "      <th></th>\n",
       "      <th></th>\n",
       "    </tr>\n",
       "  </thead>\n",
       "  <tbody>\n",
       "    <tr>\n",
       "      <th>Cash</th>\n",
       "      <td>31785.3365</td>\n",
       "      <td>21634.7515</td>\n",
       "    </tr>\n",
       "    <tr>\n",
       "      <th>Market Value</th>\n",
       "      <td>0.0000</td>\n",
       "      <td>10012.3900</td>\n",
       "    </tr>\n",
       "    <tr>\n",
       "      <th>Total Equity</th>\n",
       "      <td>31785.3365</td>\n",
       "      <td>31647.1415</td>\n",
       "    </tr>\n",
       "    <tr>\n",
       "      <th>Cash (%)</th>\n",
       "      <td>100.0000</td>\n",
       "      <td>68.3600</td>\n",
       "    </tr>\n",
       "    <tr>\n",
       "      <th>Equity (%)</th>\n",
       "      <td>0.0000</td>\n",
       "      <td>31.6400</td>\n",
       "    </tr>\n",
       "  </tbody>\n",
       "</table>\n",
       "</div>"
      ],
      "text/plain": [
       "                     CAD         USD\n",
       "Category                            \n",
       "Cash          31785.3365  21634.7515\n",
       "Market Value      0.0000  10012.3900\n",
       "Total Equity  31785.3365  31647.1415\n",
       "Cash (%)        100.0000     68.3600\n",
       "Equity (%)        0.0000     31.6400"
      ]
     },
     "execution_count": 11,
     "metadata": {},
     "output_type": "execute_result"
    }
   ],
   "source": [
    "balance_summary = {\n",
    "    'Category':\n",
    "    ['Cash', 'Market Value', 'Total Equity', 'Cash (%)', 'Equity (%)'],\n",
    "    'CAD': [],\n",
    "    'USD': []\n",
    "}\n",
    "\n",
    "for currency in balance['perCurrencyBalances']:\n",
    "    if currency['currency'] == 'CAD':\n",
    "        balance_summary['CAD'].append(currency['cash'])\n",
    "        balance_summary['CAD'].append(currency['marketValue'])\n",
    "        balance_summary['CAD'].append(currency['totalEquity'])\n",
    "        balance_summary['CAD'].append(\n",
    "            round(100 * currency['cash'] / currency['totalEquity'], 2))\n",
    "        balance_summary['CAD'].append(\n",
    "            round(100 * currency['marketValue'] / currency['totalEquity'], 2))\n",
    "    else:\n",
    "        balance_summary['USD'].append(currency['cash'])\n",
    "        balance_summary['USD'].append(currency['marketValue'])\n",
    "        balance_summary['USD'].append(currency['totalEquity'])\n",
    "        balance_summary['USD'].append(\n",
    "            round(100 * currency['cash'] / currency['totalEquity'], 2))\n",
    "        balance_summary['USD'].append(\n",
    "            round(100 * currency['marketValue'] / currency['totalEquity'], 2))\n",
    "\n",
    "# balance_summary\n",
    "\n",
    "balance_df = pd.DataFrame(balance_summary)\n",
    "balance_df.set_index(\"Category\", inplace=True)\n",
    "balance_df"
   ]
  },
  {
   "cell_type": "markdown",
   "metadata": {},
   "source": [
    "## Monthly Dividend Income"
   ]
  },
  {
   "cell_type": "code",
   "execution_count": 12,
   "metadata": {},
   "outputs": [],
   "source": [
    "startDate = '2018-04-01'\n",
    "endDate = dt.date.today().strftime(\"%Y-%m-%d\")\n",
    "dtrange = pd.date_range(startDate, endDate, freq='d')\n",
    "months = pd.Series(dtrange.month)\n",
    "starts, ends = months.ne(months.shift(1)), months.ne(months.shift(-1))\n",
    "startEndDates = pd.DataFrame({\n",
    "    'month_starting_date':\n",
    "    dtrange[starts].strftime('%Y-%m-%d'),\n",
    "    'month_ending_date':\n",
    "    dtrange[ends].strftime('%Y-%m-%d')\n",
    "})\n",
    "dateList = startEndDates.values.tolist()"
   ]
  },
  {
   "cell_type": "code",
   "execution_count": 13,
   "metadata": {
    "code_folding": []
   },
   "outputs": [],
   "source": [
    "output = {}\n",
    "total_div_earned = 0\n",
    "\n",
    "for date in dateList:\n",
    "    start = date[0]\n",
    "    end = date[1]\n",
    "    activities = qtrade.get_account_activities(acctId[0], start, end)\n",
    "    monthly_div = 0\n",
    "    for activity in activities:\n",
    "        if activity['type'] == 'Dividends':\n",
    "            monthly_div = monthly_div + activity['netAmount']\n",
    "    output[dt.datetime.strptime(start,\n",
    "                                \"%Y-%m-%d\").strftime(\"%Y-%m\")] = monthly_div\n",
    "    total_div_earned = total_div_earned + monthly_div"
   ]
  },
  {
   "cell_type": "code",
   "execution_count": 14,
   "metadata": {},
   "outputs": [
    {
     "data": {
      "text/html": [
       "<div>\n",
       "<style scoped>\n",
       "    .dataframe tbody tr th:only-of-type {\n",
       "        vertical-align: middle;\n",
       "    }\n",
       "\n",
       "    .dataframe tbody tr th {\n",
       "        vertical-align: top;\n",
       "    }\n",
       "\n",
       "    .dataframe thead th {\n",
       "        text-align: right;\n",
       "    }\n",
       "</style>\n",
       "<table border=\"1\" class=\"dataframe\">\n",
       "  <thead>\n",
       "    <tr style=\"text-align: right;\">\n",
       "      <th></th>\n",
       "      <th>Monthly_Dividend_Income</th>\n",
       "    </tr>\n",
       "  </thead>\n",
       "  <tbody>\n",
       "    <tr>\n",
       "      <th>2018-04</th>\n",
       "      <td>0.67</td>\n",
       "    </tr>\n",
       "    <tr>\n",
       "      <th>2018-05</th>\n",
       "      <td>0.87</td>\n",
       "    </tr>\n",
       "    <tr>\n",
       "      <th>2018-06</th>\n",
       "      <td>5.66</td>\n",
       "    </tr>\n",
       "    <tr>\n",
       "      <th>2018-07</th>\n",
       "      <td>1.87</td>\n",
       "    </tr>\n",
       "    <tr>\n",
       "      <th>2018-08</th>\n",
       "      <td>0.85</td>\n",
       "    </tr>\n",
       "    <tr>\n",
       "      <th>2018-09</th>\n",
       "      <td>0.85</td>\n",
       "    </tr>\n",
       "    <tr>\n",
       "      <th>2018-10</th>\n",
       "      <td>1.83</td>\n",
       "    </tr>\n",
       "    <tr>\n",
       "      <th>2018-11</th>\n",
       "      <td>0.87</td>\n",
       "    </tr>\n",
       "    <tr>\n",
       "      <th>2018-12</th>\n",
       "      <td>0.18</td>\n",
       "    </tr>\n",
       "    <tr>\n",
       "      <th>2019-01</th>\n",
       "      <td>5.91</td>\n",
       "    </tr>\n",
       "    <tr>\n",
       "      <th>2019-02</th>\n",
       "      <td>0.91</td>\n",
       "    </tr>\n",
       "    <tr>\n",
       "      <th>2019-03</th>\n",
       "      <td>2.44</td>\n",
       "    </tr>\n",
       "    <tr>\n",
       "      <th>2019-04</th>\n",
       "      <td>0.84</td>\n",
       "    </tr>\n",
       "    <tr>\n",
       "      <th>2019-05</th>\n",
       "      <td>0.87</td>\n",
       "    </tr>\n",
       "    <tr>\n",
       "      <th>2019-06</th>\n",
       "      <td>5.35</td>\n",
       "    </tr>\n",
       "    <tr>\n",
       "      <th>2019-07</th>\n",
       "      <td>2.29</td>\n",
       "    </tr>\n",
       "    <tr>\n",
       "      <th>2019-08</th>\n",
       "      <td>0.87</td>\n",
       "    </tr>\n",
       "    <tr>\n",
       "      <th>2019-09</th>\n",
       "      <td>0.85</td>\n",
       "    </tr>\n",
       "    <tr>\n",
       "      <th>2019-10</th>\n",
       "      <td>2.20</td>\n",
       "    </tr>\n",
       "    <tr>\n",
       "      <th>2019-11</th>\n",
       "      <td>0.86</td>\n",
       "    </tr>\n",
       "    <tr>\n",
       "      <th>2019-12</th>\n",
       "      <td>0.17</td>\n",
       "    </tr>\n",
       "    <tr>\n",
       "      <th>2020-01</th>\n",
       "      <td>3.91</td>\n",
       "    </tr>\n",
       "    <tr>\n",
       "      <th>2020-02</th>\n",
       "      <td>1.73</td>\n",
       "    </tr>\n",
       "    <tr>\n",
       "      <th>2020-03</th>\n",
       "      <td>3.33</td>\n",
       "    </tr>\n",
       "    <tr>\n",
       "      <th>2020-04</th>\n",
       "      <td>1.73</td>\n",
       "    </tr>\n",
       "    <tr>\n",
       "      <th>2020-05</th>\n",
       "      <td>1.94</td>\n",
       "    </tr>\n",
       "    <tr>\n",
       "      <th>2020-06</th>\n",
       "      <td>1.94</td>\n",
       "    </tr>\n",
       "    <tr>\n",
       "      <th>2020-07</th>\n",
       "      <td>3.93</td>\n",
       "    </tr>\n",
       "    <tr>\n",
       "      <th>2020-08</th>\n",
       "      <td>2.49</td>\n",
       "    </tr>\n",
       "    <tr>\n",
       "      <th>2020-09</th>\n",
       "      <td>2.49</td>\n",
       "    </tr>\n",
       "    <tr>\n",
       "      <th>2020-10</th>\n",
       "      <td>4.08</td>\n",
       "    </tr>\n",
       "    <tr>\n",
       "      <th>2020-11</th>\n",
       "      <td>2.45</td>\n",
       "    </tr>\n",
       "    <tr>\n",
       "      <th>2020-12</th>\n",
       "      <td>0.00</td>\n",
       "    </tr>\n",
       "    <tr>\n",
       "      <th>2021-01</th>\n",
       "      <td>6.41</td>\n",
       "    </tr>\n",
       "    <tr>\n",
       "      <th>2021-02</th>\n",
       "      <td>0.00</td>\n",
       "    </tr>\n",
       "    <tr>\n",
       "      <th>2021-03</th>\n",
       "      <td>2.60</td>\n",
       "    </tr>\n",
       "    <tr>\n",
       "      <th>2021-04</th>\n",
       "      <td>0.93</td>\n",
       "    </tr>\n",
       "  </tbody>\n",
       "</table>\n",
       "</div>"
      ],
      "text/plain": [
       "         Monthly_Dividend_Income\n",
       "2018-04                     0.67\n",
       "2018-05                     0.87\n",
       "2018-06                     5.66\n",
       "2018-07                     1.87\n",
       "2018-08                     0.85\n",
       "2018-09                     0.85\n",
       "2018-10                     1.83\n",
       "2018-11                     0.87\n",
       "2018-12                     0.18\n",
       "2019-01                     5.91\n",
       "2019-02                     0.91\n",
       "2019-03                     2.44\n",
       "2019-04                     0.84\n",
       "2019-05                     0.87\n",
       "2019-06                     5.35\n",
       "2019-07                     2.29\n",
       "2019-08                     0.87\n",
       "2019-09                     0.85\n",
       "2019-10                     2.20\n",
       "2019-11                     0.86\n",
       "2019-12                     0.17\n",
       "2020-01                     3.91\n",
       "2020-02                     1.73\n",
       "2020-03                     3.33\n",
       "2020-04                     1.73\n",
       "2020-05                     1.94\n",
       "2020-06                     1.94\n",
       "2020-07                     3.93\n",
       "2020-08                     2.49\n",
       "2020-09                     2.49\n",
       "2020-10                     4.08\n",
       "2020-11                     2.45\n",
       "2020-12                     0.00\n",
       "2021-01                     6.41\n",
       "2021-02                     0.00\n",
       "2021-03                     2.60\n",
       "2021-04                     0.93"
      ]
     },
     "execution_count": 14,
     "metadata": {},
     "output_type": "execute_result"
    }
   ],
   "source": [
    "monthly_div_df = pd.DataFrame.from_dict(output,\n",
    "                                        orient='index',\n",
    "                                        columns=['Monthly_Dividend_Income'])\n",
    "monthly_div_df"
   ]
  },
  {
   "cell_type": "markdown",
   "metadata": {},
   "source": [
    "## Dividend Income History with Bar Chart Visualization"
   ]
  },
  {
   "cell_type": "code",
   "execution_count": 15,
   "metadata": {},
   "outputs": [
    {
     "data": {
      "text/plain": [
       "<AxesSubplot:title={'center':'Monthly Dividend Payments'}, xlabel='Months', ylabel='Dividend ($)'>"
      ]
     },
     "execution_count": 15,
     "metadata": {},
     "output_type": "execute_result"
    },
    {
     "data": {
      "image/png": "[encoded data removed]",
      "text/plain": [
       "<Figure size 1080x720 with 1 Axes>"
      ]
     },
     "metadata": {
      "needs_background": "light"
     },
     "output_type": "display_data"
    }
   ],
   "source": [
    "monthly_div_df.plot(kind='bar',\n",
    "                    title='Monthly Dividend Payments',\n",
    "                    xlabel='Months',\n",
    "                    ylabel='Dividend ($)',\n",
    "                    figsize=(15, 10),\n",
    "                    legend=False,\n",
    "                    ylim=(0, 10))"
   ]
  },
  {
   "cell_type": "markdown",
   "metadata": {},
   "source": [
    "## Portfolio Performance"
   ]
  },
  {
   "cell_type": "code",
   "execution_count": 16,
   "metadata": {
    "scrolled": true
   },
   "outputs": [
    {
     "data": {
      "text/html": [
       "<div>\n",
       "<style scoped>\n",
       "    .dataframe tbody tr th:only-of-type {\n",
       "        vertical-align: middle;\n",
       "    }\n",
       "\n",
       "    .dataframe tbody tr th {\n",
       "        vertical-align: top;\n",
       "    }\n",
       "\n",
       "    .dataframe thead th {\n",
       "        text-align: right;\n",
       "    }\n",
       "</style>\n",
       "<table border=\"1\" class=\"dataframe\">\n",
       "  <thead>\n",
       "    <tr style=\"text-align: right;\">\n",
       "      <th></th>\n",
       "      <th>Portfolio Return (%)</th>\n",
       "      <th>Total Dividend Earned ($)</th>\n",
       "    </tr>\n",
       "  </thead>\n",
       "  <tbody>\n",
       "    <tr>\n",
       "      <th>0</th>\n",
       "      <td>2.761389</td>\n",
       "      <td>77.17</td>\n",
       "    </tr>\n",
       "  </tbody>\n",
       "</table>\n",
       "</div>"
      ],
      "text/plain": [
       "   Portfolio Return (%)  Total Dividend Earned ($)\n",
       "0              2.761389                      77.17"
      ]
     },
     "execution_count": 16,
     "metadata": {},
     "output_type": "execute_result"
    }
   ],
   "source": [
    "performance_summary = {\n",
    "    'Portfolio Return (%)': [],\n",
    "    'Total Dividend Earned ($)': []\n",
    "}\n",
    "\n",
    "performance_summary['Portfolio Return (%)'].append(\n",
    "    100 * (total_market_value - total_costs) / total_costs)\n",
    "performance_summary['Total Dividend Earned ($)'].append(total_div_earned)\n",
    "performance_df = pd.DataFrame(performance_summary)\n",
    "performance_df"
   ]
  },
  {
   "cell_type": "code",
   "execution_count": 17,
   "metadata": {},
   "outputs": [],
   "source": [
    "def color_negative_red(value):\n",
    "\n",
    "    if value < 0:\n",
    "        color = 'red'\n",
    "    elif value > 0:\n",
    "        color = 'green'\n",
    "    else:\n",
    "        color = 'black'\n",
    "\n",
    "    return 'color: %s' % color"
   ]
  },
  {
   "cell_type": "code",
   "execution_count": 18,
   "metadata": {},
   "outputs": [],
   "source": [
    "portfolio = portfolio[[\n",
    "    'Description', 'Currency', 'Quantities', 'Market Value', '%Portfolio',\n",
    "    'Gain/Loss (%)'\n",
    "]]\n",
    "portfolio = portfolio.style.applymap(color_negative_red, subset=['Gain/Loss (%)'])"
   ]
  },
  {
   "cell_type": "code",
   "execution_count": 19,
   "metadata": {},
   "outputs": [
    {
     "data": {
      "text/html": [
       "<style  type=\"text/css\" >\n",
       "#T_49543_row0_col5,#T_49543_row2_col5,#T_49543_row5_col5,#T_49543_row6_col5,#T_49543_row7_col5{\n",
       "            color:  red;\n",
       "        }#T_49543_row1_col5,#T_49543_row3_col5,#T_49543_row4_col5{\n",
       "            color:  green;\n",
       "        }</style><table id=\"T_49543_\" ><thead>    <tr>        <th class=\"blank level0\" ></th>        <th class=\"col_heading level0 col0\" >Description</th>        <th class=\"col_heading level0 col1\" >Currency</th>        <th class=\"col_heading level0 col2\" >Quantities</th>        <th class=\"col_heading level0 col3\" >Market Value</th>        <th class=\"col_heading level0 col4\" >%Portfolio</th>        <th class=\"col_heading level0 col5\" >Gain/Loss (%)</th>    </tr>    <tr>        <th class=\"index_name level0\" >Symbol</th>        <th class=\"blank\" ></th>        <th class=\"blank\" ></th>        <th class=\"blank\" ></th>        <th class=\"blank\" ></th>        <th class=\"blank\" ></th>        <th class=\"blank\" ></th>    </tr></thead><tbody>\n",
       "                <tr>\n",
       "                        <th id=\"T_49543_level0_row0\" class=\"row_heading level0 row0\" >MMM</th>\n",
       "                        <td id=\"T_49543_row0_col0\" class=\"data row0 col0\" >3M COMPANY</td>\n",
       "                        <td id=\"T_49543_row0_col1\" class=\"data row0 col1\" >USD</td>\n",
       "                        <td id=\"T_49543_row0_col2\" class=\"data row0 col2\" >3</td>\n",
       "                        <td id=\"T_49543_row0_col3\" class=\"data row0 col3\" >590.040000</td>\n",
       "                        <td id=\"T_49543_row0_col4\" class=\"data row0 col4\" >1.860000</td>\n",
       "                        <td id=\"T_49543_row0_col5\" class=\"data row0 col5\" >-0.100000</td>\n",
       "            </tr>\n",
       "            <tr>\n",
       "                        <th id=\"T_49543_level0_row1\" class=\"row_heading level0 row1\" >O</th>\n",
       "                        <td id=\"T_49543_row1_col0\" class=\"data row1 col0\" >REALTY INCOME CORP</td>\n",
       "                        <td id=\"T_49543_row1_col1\" class=\"data row1 col1\" >USD</td>\n",
       "                        <td id=\"T_49543_row1_col2\" class=\"data row1 col2\" >75</td>\n",
       "                        <td id=\"T_49543_row1_col3\" class=\"data row1 col3\" >4924.500000</td>\n",
       "                        <td id=\"T_49543_row1_col4\" class=\"data row1 col4\" >15.560000</td>\n",
       "                        <td id=\"T_49543_row1_col5\" class=\"data row1 col5\" >7.290000</td>\n",
       "            </tr>\n",
       "            <tr>\n",
       "                        <th id=\"T_49543_level0_row2\" class=\"row_heading level0 row2\" >JPM</th>\n",
       "                        <td id=\"T_49543_row2_col0\" class=\"data row2 col0\" >JPMORGAN CHASE & CO.</td>\n",
       "                        <td id=\"T_49543_row2_col1\" class=\"data row2 col1\" >USD</td>\n",
       "                        <td id=\"T_49543_row2_col2\" class=\"data row2 col2\" >6</td>\n",
       "                        <td id=\"T_49543_row2_col3\" class=\"data row2 col3\" >920.220000</td>\n",
       "                        <td id=\"T_49543_row2_col4\" class=\"data row2 col4\" >2.910000</td>\n",
       "                        <td id=\"T_49543_row2_col5\" class=\"data row2 col5\" >-0.060000</td>\n",
       "            </tr>\n",
       "            <tr>\n",
       "                        <th id=\"T_49543_level0_row3\" class=\"row_heading level0 row3\" >VTI</th>\n",
       "                        <td id=\"T_49543_row3_col0\" class=\"data row3 col0\" >VANGUARD INDEX FUNDS VANGUARD TOTAL STOCK MARKET ETF</td>\n",
       "                        <td id=\"T_49543_row3_col1\" class=\"data row3 col1\" >USD</td>\n",
       "                        <td id=\"T_49543_row3_col2\" class=\"data row3 col2\" >3</td>\n",
       "                        <td id=\"T_49543_row3_col3\" class=\"data row3 col3\" >646.350000</td>\n",
       "                        <td id=\"T_49543_row3_col4\" class=\"data row3 col4\" >2.040000</td>\n",
       "                        <td id=\"T_49543_row3_col5\" class=\"data row3 col5\" >10.100000</td>\n",
       "            </tr>\n",
       "            <tr>\n",
       "                        <th id=\"T_49543_level0_row4\" class=\"row_heading level0 row4\" >QQQ</th>\n",
       "                        <td id=\"T_49543_row4_col0\" class=\"data row4 col0\" >INVESCO QQQ TRUST UNIT SER 1</td>\n",
       "                        <td id=\"T_49543_row4_col1\" class=\"data row4 col1\" >USD</td>\n",
       "                        <td id=\"T_49543_row4_col2\" class=\"data row4 col2\" >2</td>\n",
       "                        <td id=\"T_49543_row4_col3\" class=\"data row4 col3\" >676.900000</td>\n",
       "                        <td id=\"T_49543_row4_col4\" class=\"data row4 col4\" >2.140000</td>\n",
       "                        <td id=\"T_49543_row4_col5\" class=\"data row4 col5\" >5.870000</td>\n",
       "            </tr>\n",
       "            <tr>\n",
       "                        <th id=\"T_49543_level0_row5\" class=\"row_heading level0 row5\" >GLD</th>\n",
       "                        <td id=\"T_49543_row5_col0\" class=\"data row5 col0\" >SPDR GOLD TRUST GOLD SHARES NPV</td>\n",
       "                        <td id=\"T_49543_row5_col1\" class=\"data row5 col1\" >USD</td>\n",
       "                        <td id=\"T_49543_row5_col2\" class=\"data row5 col2\" >7</td>\n",
       "                        <td id=\"T_49543_row5_col3\" class=\"data row5 col3\" >1138.130000</td>\n",
       "                        <td id=\"T_49543_row5_col4\" class=\"data row5 col4\" >3.600000</td>\n",
       "                        <td id=\"T_49543_row5_col5\" class=\"data row5 col5\" >-6.720000</td>\n",
       "            </tr>\n",
       "            <tr>\n",
       "                        <th id=\"T_49543_level0_row6\" class=\"row_heading level0 row6\" >TLT</th>\n",
       "                        <td id=\"T_49543_row6_col0\" class=\"data row6 col0\" >ISHARES TRUST BARCLAYS 20+ TREAS BD FD TO 07/01/2013</td>\n",
       "                        <td id=\"T_49543_row6_col1\" class=\"data row6 col1\" >USD</td>\n",
       "                        <td id=\"T_49543_row6_col2\" class=\"data row6 col2\" >4</td>\n",
       "                        <td id=\"T_49543_row6_col3\" class=\"data row6 col3\" >551.760000</td>\n",
       "                        <td id=\"T_49543_row6_col4\" class=\"data row6 col4\" >1.740000</td>\n",
       "                        <td id=\"T_49543_row6_col5\" class=\"data row6 col5\" >-9.050000</td>\n",
       "            </tr>\n",
       "            <tr>\n",
       "                        <th id=\"T_49543_level0_row7\" class=\"row_heading level0 row7\" >IEF</th>\n",
       "                        <td id=\"T_49543_row7_col0\" class=\"data row7 col0\" >ISHARES TRUST BARCLAYS 7-10 YEAR TREASURY BOND ETF</td>\n",
       "                        <td id=\"T_49543_row7_col1\" class=\"data row7 col1\" >USD</td>\n",
       "                        <td id=\"T_49543_row7_col2\" class=\"data row7 col2\" >5</td>\n",
       "                        <td id=\"T_49543_row7_col3\" class=\"data row7 col3\" >569.050000</td>\n",
       "                        <td id=\"T_49543_row7_col4\" class=\"data row7 col4\" >1.800000</td>\n",
       "                        <td id=\"T_49543_row7_col5\" class=\"data row7 col5\" >-4.070000</td>\n",
       "            </tr>\n",
       "    </tbody></table>"
      ],
      "text/plain": [
       "<pandas.io.formats.style.Styler at 0x2868dabfc10>"
      ]
     },
     "execution_count": 19,
     "metadata": {},
     "output_type": "execute_result"
    }
   ],
   "source": [
    "portfolio"
   ]
  },
  {
   "cell_type": "code",
   "execution_count": 20,
   "metadata": {},
   "outputs": [
    {
     "data": {
      "text/html": [
       "<div>\n",
       "<style scoped>\n",
       "    .dataframe tbody tr th:only-of-type {\n",
       "        vertical-align: middle;\n",
       "    }\n",
       "\n",
       "    .dataframe tbody tr th {\n",
       "        vertical-align: top;\n",
       "    }\n",
       "\n",
       "    .dataframe thead th {\n",
       "        text-align: right;\n",
       "    }\n",
       "</style>\n",
       "<table border=\"1\" class=\"dataframe\">\n",
       "  <thead>\n",
       "    <tr style=\"text-align: right;\">\n",
       "      <th></th>\n",
       "      <th>CAD</th>\n",
       "      <th>USD</th>\n",
       "    </tr>\n",
       "    <tr>\n",
       "      <th>Category</th>\n",
       "      <th></th>\n",
       "      <th></th>\n",
       "    </tr>\n",
       "  </thead>\n",
       "  <tbody>\n",
       "    <tr>\n",
       "      <th>Cash</th>\n",
       "      <td>31785.3365</td>\n",
       "      <td>21634.7515</td>\n",
       "    </tr>\n",
       "    <tr>\n",
       "      <th>Market Value</th>\n",
       "      <td>0.0000</td>\n",
       "      <td>10012.3900</td>\n",
       "    </tr>\n",
       "    <tr>\n",
       "      <th>Total Equity</th>\n",
       "      <td>31785.3365</td>\n",
       "      <td>31647.1415</td>\n",
       "    </tr>\n",
       "    <tr>\n",
       "      <th>Cash (%)</th>\n",
       "      <td>100.0000</td>\n",
       "      <td>68.3600</td>\n",
       "    </tr>\n",
       "    <tr>\n",
       "      <th>Equity (%)</th>\n",
       "      <td>0.0000</td>\n",
       "      <td>31.6400</td>\n",
       "    </tr>\n",
       "  </tbody>\n",
       "</table>\n",
       "</div>"
      ],
      "text/plain": [
       "                     CAD         USD\n",
       "Category                            \n",
       "Cash          31785.3365  21634.7515\n",
       "Market Value      0.0000  10012.3900\n",
       "Total Equity  31785.3365  31647.1415\n",
       "Cash (%)        100.0000     68.3600\n",
       "Equity (%)        0.0000     31.6400"
      ]
     },
     "execution_count": 20,
     "metadata": {},
     "output_type": "execute_result"
    }
   ],
   "source": [
    "balance_df"
   ]
  },
  {
   "cell_type": "code",
   "execution_count": 21,
   "metadata": {},
   "outputs": [
    {
     "data": {
      "text/plain": [
       "31647.1415"
      ]
     },
     "execution_count": 21,
     "metadata": {},
     "output_type": "execute_result"
    }
   ],
   "source": [
    "balance_df.loc['Total Equity', 'USD']"
   ]
  },
  {
   "cell_type": "code",
   "execution_count": 22,
   "metadata": {},
   "outputs": [],
   "source": [
    "def get_latest_price(symbol: str):\n",
    "    startDate = (dt.date.today() -\n",
    "                 dt.timedelta(days=1)).strftime(\"%Y-%m-%d\")\n",
    "    endDate = dt.date.today().strftime(\"%Y-%m-%d\")\n",
    "    price_data = web.DataReader(symbol, 'yahoo', startDate, endDate)\n",
    "    return price_data['Adj Close'][-1]\n",
    "\n",
    "\n",
    "def calculate_shares(portion: float, symbol: str):\n",
    "    total_equity = balance_df.loc['Total Equity', 'USD']\n",
    "    amount = total_equity * portion\n",
    "    curr_price = get_latest_price(symbol)\n",
    "    return (amount, math.floor(amount / curr_price))"
   ]
  },
  {
   "cell_type": "code",
   "execution_count": 23,
   "metadata": {},
   "outputs": [
    {
     "data": {
      "text/plain": [
       "196.32980346679688"
      ]
     },
     "execution_count": 23,
     "metadata": {},
     "output_type": "execute_result"
    }
   ],
   "source": [
    "get_latest_price('MMM')"
   ]
  },
  {
   "cell_type": "code",
   "execution_count": 24,
   "metadata": {},
   "outputs": [
    {
     "data": {
      "text/plain": [
       "(1582.3570750000001, 8)"
      ]
     },
     "execution_count": 24,
     "metadata": {},
     "output_type": "execute_result"
    }
   ],
   "source": [
    "calculate_shares(0.05, 'MMM')"
   ]
  },
  {
   "cell_type": "code",
   "execution_count": 25,
   "metadata": {},
   "outputs": [
    {
     "data": {
      "text/plain": [
       "(949.414245, 6)"
      ]
     },
     "execution_count": 25,
     "metadata": {},
     "output_type": "execute_result"
    }
   ],
   "source": [
    "calculate_shares(0.03, 'JPM')"
   ]
  },
  {
   "cell_type": "code",
   "execution_count": null,
   "metadata": {},
   "outputs": [],
   "source": []
  }
 ],
 "metadata": {
  "kernelspec": {
   "display_name": "Python 3",
   "language": "python",
   "name": "python3"
  },
  "language_info": {
   "codemirror_mode": {
    "name": "ipython",
    "version": 3
   },
   "file_extension": ".py",
   "mimetype": "text/x-python",
   "name": "python",
   "nbconvert_exporter": "python",
   "pygments_lexer": "ipython3",
   "version": "3.8.8"
  },
  "toc": {
   "base_numbering": 1,
   "nav_menu": {},
   "number_sections": true,
   "sideBar": true,
   "skip_h1_title": true,
   "title_cell": "Table of Contents",
   "title_sidebar": "Contents",
   "toc_cell": false,
   "toc_position": {},
   "toc_section_display": true,
   "toc_window_display": true
  },
  "varInspector": {
   "cols": {
    "lenName": 16,
    "lenType": 16,
    "lenVar": 40
   },
   "kernels_config": {
    "python": {
     "delete_cmd_postfix": "",
     "delete_cmd_prefix": "del ",
     "library": "var_list.py",
     "varRefreshCmd": "print(var_dic_list())"
    },
    "r": {
     "delete_cmd_postfix": ") ",
     "delete_cmd_prefix": "rm(",
     "library": "var_list.r",
     "varRefreshCmd": "cat(var_dic_list()) "
    }
   },
   "types_to_exclude": [
    "module",
    "function",
    "builtin_function_or_method",
    "instance",
    "_Feature"
   ],
   "window_display": false
  }
 },
 "nbformat": 4,
 "nbformat_minor": 4
}
