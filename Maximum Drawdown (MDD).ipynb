{
 "cells": [
  {
   "cell_type": "code",
   "execution_count": 1,
   "metadata": {},
   "outputs": [],
   "source": [
    "import pandas as pd\n",
    "import pandas_datareader.data as web\n",
    "import datetime as dt\n",
    "import numpy as np"
   ]
  },
  {
   "cell_type": "code",
   "execution_count": 2,
   "metadata": {},
   "outputs": [
    {
     "data": {
      "text/html": [
       "<div>\n",
       "<style scoped>\n",
       "    .dataframe tbody tr th:only-of-type {\n",
       "        vertical-align: middle;\n",
       "    }\n",
       "\n",
       "    .dataframe tbody tr th {\n",
       "        vertical-align: top;\n",
       "    }\n",
       "\n",
       "    .dataframe thead th {\n",
       "        text-align: right;\n",
       "    }\n",
       "</style>\n",
       "<table border=\"1\" class=\"dataframe\">\n",
       "  <thead>\n",
       "    <tr style=\"text-align: right;\">\n",
       "      <th></th>\n",
       "      <th>Amazon</th>\n",
       "    </tr>\n",
       "    <tr>\n",
       "      <th>Date</th>\n",
       "      <th></th>\n",
       "    </tr>\n",
       "  </thead>\n",
       "  <tbody>\n",
       "    <tr>\n",
       "      <th>1997-05-15</th>\n",
       "      <td>NaN</td>\n",
       "    </tr>\n",
       "    <tr>\n",
       "      <th>1997-05-16</th>\n",
       "      <td>-0.117021</td>\n",
       "    </tr>\n",
       "    <tr>\n",
       "      <th>1997-05-19</th>\n",
       "      <td>-0.012048</td>\n",
       "    </tr>\n",
       "    <tr>\n",
       "      <th>1997-05-20</th>\n",
       "      <td>-0.042683</td>\n",
       "    </tr>\n",
       "    <tr>\n",
       "      <th>1997-05-21</th>\n",
       "      <td>-0.127388</td>\n",
       "    </tr>\n",
       "  </tbody>\n",
       "</table>\n",
       "</div>"
      ],
      "text/plain": [
       "              Amazon\n",
       "Date                \n",
       "1997-05-15       NaN\n",
       "1997-05-16 -0.117021\n",
       "1997-05-19 -0.012048\n",
       "1997-05-20 -0.042683\n",
       "1997-05-21 -0.127388"
      ]
     },
     "execution_count": 2,
     "metadata": {},
     "output_type": "execute_result"
    }
   ],
   "source": [
    "start = dt.datetime(1970, 1, 1)\n",
    "end = dt.datetime.today()\n",
    "\n",
    "df = pd.DataFrame()\n",
    "df['Amazon'] = web.DataReader('AMZN', 'yahoo', start, end)['Adj Close']\n",
    "\n",
    "daily_returns = df.pct_change()\n",
    "daily_returns.head()"
   ]
  },
  {
   "cell_type": "code",
   "execution_count": 3,
   "metadata": {},
   "outputs": [
    {
     "data": {
      "text/plain": [
       "<AxesSubplot:xlabel='Date'>"
      ]
     },
     "execution_count": 3,
     "metadata": {},
     "output_type": "execute_result"
    },
    {
     "data": {
      "image/png": "[encoded data removed]",
      "text/plain": [
       "<Figure size 432x288 with 1 Axes>"
      ]
     },
     "metadata": {
      "needs_background": "light"
     },
     "output_type": "display_data"
    }
   ],
   "source": [
    "wealth_idx = 1 * (1 + daily_returns).cumprod()\n",
    "previous_peaks = wealth_idx.cummax()\n",
    "drawdown = (wealth_idx - previous_peaks)/previous_peaks\n",
    "drawdown.plot()"
   ]
  },
  {
   "cell_type": "code",
   "execution_count": 41,
   "metadata": {},
   "outputs": [
    {
     "name": "stdout",
     "output_type": "stream",
     "text": [
      "Maximum Drawdown (MDD) over the entire period = -0.94\n",
      "The date of MDD = 2001-09-28\n"
     ]
    }
   ],
   "source": [
    "mdd = drawdown.min()\n",
    "print(\"Maximum Drawdown (MDD) over the entire period = {}\".format(\n",
    "    mdd.values[0].round(2)))\n",
    "\n",
    "x = drawdown.idxmin().values[0]\n",
    "x = pd.to_datetime(x)\n",
    "print(\"The date of MDD = {}\".format(str(x.date())))"
   ]
  },
  {
   "cell_type": "code",
   "execution_count": 42,
   "metadata": {},
   "outputs": [
    {
     "name": "stdout",
     "output_type": "stream",
     "text": [
      "Maximum Drawdown (MDD) over the entire period = -0.76\n",
      "The date of MDD = 2006-08-11\n"
     ]
    }
   ],
   "source": [
    "startYear = '2005'\n",
    "endYear = '2010'\n",
    "\n",
    "mdd = drawdown[startYear:endYear].min()\n",
    "print(\"Maximum Drawdown (MDD) over the entire period = {}\".format(\n",
    "    mdd.values[0].round(2)))\n",
    "\n",
    "x = drawdown[startYear:endYear].idxmin().values[0]\n",
    "x = pd.to_datetime(x)\n",
    "print(\"The date of MDD = {}\".format(str(x.date())))"
   ]
  },
  {
   "cell_type": "code",
   "execution_count": 45,
   "metadata": {},
   "outputs": [
    {
     "name": "stdout",
     "output_type": "stream",
     "text": [
      "Maximum Drawdown (MDD) over the entire period = -0.23\n",
      "The date of MDD = 2020-03-12\n"
     ]
    }
   ],
   "source": [
    "startYear = '2020'\n",
    "\n",
    "mdd = drawdown[startYear:].min()\n",
    "print(\"Maximum Drawdown (MDD) over the entire period = {}\".format(\n",
    "    mdd.values[0].round(2)))\n",
    "\n",
    "x = drawdown[startYear:].idxmin().values[0]\n",
    "x = pd.to_datetime(x)\n",
    "print(\"The date of MDD = {}\".format(str(x.date())))"
   ]
  },
  {
   "cell_type": "code",
   "execution_count": 44,
   "metadata": {},
   "outputs": [
    {
     "ename": "NameError",
     "evalue": "name 'dailyReturns' is not defined",
     "output_type": "error",
     "traceback": [
      "\u001b[1;31m---------------------------------------------------------------------------\u001b[0m",
      "\u001b[1;31mNameError\u001b[0m                                 Traceback (most recent call last)",
      "\u001b[1;32m<ipython-input-44-a6b75f2bea3d>\u001b[0m in \u001b[0;36m<module>\u001b[1;34m\u001b[0m\n\u001b[0;32m      6\u001b[0m                         'Drawdown': drawdown})\n\u001b[0;32m      7\u001b[0m \u001b[1;33m\u001b[0m\u001b[0m\n\u001b[1;32m----> 8\u001b[1;33m \u001b[0mmdd\u001b[0m \u001b[1;33m=\u001b[0m \u001b[0mcompute_drawdown\u001b[0m\u001b[1;33m(\u001b[0m\u001b[0mdailyReturns\u001b[0m\u001b[1;33m[\u001b[0m\u001b[1;34m'Amazon'\u001b[0m\u001b[1;33m]\u001b[0m\u001b[1;33m)\u001b[0m\u001b[1;33m\u001b[0m\u001b[1;33m\u001b[0m\u001b[0m\n\u001b[0m\u001b[0;32m      9\u001b[0m \u001b[0mmdd\u001b[0m\u001b[1;33m[\u001b[0m\u001b[1;34m'2018'\u001b[0m\u001b[1;33m:\u001b[0m\u001b[1;34m'2019'\u001b[0m\u001b[1;33m]\u001b[0m\u001b[1;33m\u001b[0m\u001b[1;33m\u001b[0m\u001b[0m\n",
      "\u001b[1;31mNameError\u001b[0m: name 'dailyReturns' is not defined"
     ]
    }
   ],
   "source": [
    "def compute_drawdown(return_series: pd.Series):\n",
    "    wealth_idx = (1000 * (1 + return_series).cumprod()).round(2)\n",
    "    previous_peaks = wealth_idx.cummax().round(2)\n",
    "    drawdown = ((wealth_idx - previous_peaks)/previous_peaks).round(4)\n",
    "    return pd.DataFrame({'Wealth': wealth_idx, 'Peak': previous_peaks,\n",
    "                        'Drawdown': drawdown})\n",
    "\n",
    "\n",
    "mdd = compute_drawdown(dailyReturns['Amazon'])\n",
    "mdd['2018':'2019']"
   ]
  },
  {
   "cell_type": "code",
   "execution_count": null,
   "metadata": {},
   "outputs": [],
   "source": []
  }
 ],
 "metadata": {
  "kernelspec": {
   "display_name": "Python 3",
   "language": "python",
   "name": "python3"
  },
  "language_info": {
   "codemirror_mode": {
    "name": "ipython",
    "version": 3
   },
   "file_extension": ".py",
   "mimetype": "text/x-python",
   "name": "python",
   "nbconvert_exporter": "python",
   "pygments_lexer": "ipython3",
   "version": "3.8.5"
  },
  "toc": {
   "base_numbering": 1,
   "nav_menu": {},
   "number_sections": false,
   "sideBar": true,
   "skip_h1_title": false,
   "title_cell": "Table of Contents",
   "title_sidebar": "Contents",
   "toc_cell": false,
   "toc_position": {},
   "toc_section_display": true,
   "toc_window_display": false
  },
  "varInspector": {
   "cols": {
    "lenName": 16,
    "lenType": 16,
    "lenVar": 40
   },
   "kernels_config": {
    "python": {
     "delete_cmd_postfix": "",
     "delete_cmd_prefix": "del ",
     "library": "var_list.py",
     "varRefreshCmd": "print(var_dic_list())"
    },
    "r": {
     "delete_cmd_postfix": ") ",
     "delete_cmd_prefix": "rm(",
     "library": "var_list.r",
     "varRefreshCmd": "cat(var_dic_list()) "
    }
   },
   "types_to_exclude": [
    "module",
    "function",
    "builtin_function_or_method",
    "instance",
    "_Feature"
   ],
   "window_display": false
  }
 },
 "nbformat": 4,
 "nbformat_minor": 4
}
