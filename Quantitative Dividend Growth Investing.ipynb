{
 "cells": [
  {
   "cell_type": "markdown",
   "id": "4c219933",
   "metadata": {},
   "source": [
    "In this notebook, we are going to perform top down market analysis to determine which stocks should be bought. Before we consider buying individual stocks, we have to analyze the overall market condition using dual momentum theory. Based on the dual momentum theory, we only invest in assets when their prices are going up or in uptrend."
   ]
  },
  {
   "cell_type": "code",
   "execution_count": 1,
   "id": "afd58c2c",
   "metadata": {},
   "outputs": [],
   "source": [
    "import momentum\n",
    "import pyticker\n",
    "import dividend\n",
    "import pandas as pd\n",
    "import datetime as dt"
   ]
  },
  {
   "cell_type": "markdown",
   "id": "2bda0ea9",
   "metadata": {},
   "source": [
    "## Global Macro Momentum"
   ]
  },
  {
   "cell_type": "markdown",
   "id": "5032cb43",
   "metadata": {},
   "source": [
    "We can compute previous 12 months' momentums of some of top ETFs in different asset classes to observe the overall market movements. I've written helper functions to compute equally weighted momentum in momentum.py which is imported above. Below, we used the avearge of previous 1 month return, 3 months return, 6 months return and 12 months return to measure the momentum."
   ]
  },
  {
   "cell_type": "code",
   "execution_count": 2,
   "id": "6dae9d55",
   "metadata": {},
   "outputs": [
    {
     "data": {
      "text/html": [
       "<div>\n",
       "<style scoped>\n",
       "    .dataframe tbody tr th:only-of-type {\n",
       "        vertical-align: middle;\n",
       "    }\n",
       "\n",
       "    .dataframe tbody tr th {\n",
       "        vertical-align: top;\n",
       "    }\n",
       "\n",
       "    .dataframe thead th {\n",
       "        text-align: right;\n",
       "    }\n",
       "</style>\n",
       "<table border=\"1\" class=\"dataframe\">\n",
       "  <thead>\n",
       "    <tr style=\"text-align: right;\">\n",
       "      <th></th>\n",
       "      <th>Name</th>\n",
       "      <th>1M_Return</th>\n",
       "      <th>3M_Return</th>\n",
       "      <th>6M_Return</th>\n",
       "      <th>12M_Return</th>\n",
       "      <th>EW_MOMENTUM</th>\n",
       "    </tr>\n",
       "    <tr>\n",
       "      <th>Symbol</th>\n",
       "      <th></th>\n",
       "      <th></th>\n",
       "      <th></th>\n",
       "      <th></th>\n",
       "      <th></th>\n",
       "      <th></th>\n",
       "    </tr>\n",
       "  </thead>\n",
       "  <tbody>\n",
       "    <tr>\n",
       "      <th>QQQ</th>\n",
       "      <td>Invesco QQQ Trust, Series 1</td>\n",
       "      <td>0.017168</td>\n",
       "      <td>0.018465</td>\n",
       "      <td>0.152146</td>\n",
       "      <td>0.684186</td>\n",
       "      <td>0.217991</td>\n",
       "    </tr>\n",
       "    <tr>\n",
       "      <th>DBC</th>\n",
       "      <td>Invesco DB Commodity Index Trac</td>\n",
       "      <td>-0.007173</td>\n",
       "      <td>0.129932</td>\n",
       "      <td>0.271822</td>\n",
       "      <td>0.476444</td>\n",
       "      <td>0.217757</td>\n",
       "    </tr>\n",
       "    <tr>\n",
       "      <th>SPY</th>\n",
       "      <td>SPDR S&amp;P 500</td>\n",
       "      <td>0.045399</td>\n",
       "      <td>0.063518</td>\n",
       "      <td>0.192400</td>\n",
       "      <td>0.562311</td>\n",
       "      <td>0.215907</td>\n",
       "    </tr>\n",
       "    <tr>\n",
       "      <th>GLD</th>\n",
       "      <td>SPDR Gold Trust</td>\n",
       "      <td>-0.011433</td>\n",
       "      <td>-0.103162</td>\n",
       "      <td>-0.096883</td>\n",
       "      <td>0.080446</td>\n",
       "      <td>-0.032758</td>\n",
       "    </tr>\n",
       "    <tr>\n",
       "      <th>IEF</th>\n",
       "      <td>iShares 7-10 Year Treasury Bond</td>\n",
       "      <td>-0.023857</td>\n",
       "      <td>-0.057335</td>\n",
       "      <td>-0.069430</td>\n",
       "      <td>-0.061508</td>\n",
       "      <td>-0.053033</td>\n",
       "    </tr>\n",
       "    <tr>\n",
       "      <th>TLT</th>\n",
       "      <td>iShares 20+ Year Treasury Bond</td>\n",
       "      <td>-0.052453</td>\n",
       "      <td>-0.139224</td>\n",
       "      <td>-0.164905</td>\n",
       "      <td>-0.167392</td>\n",
       "      <td>-0.130993</td>\n",
       "    </tr>\n",
       "  </tbody>\n",
       "</table>\n",
       "</div>"
      ],
      "text/plain": [
       "                                   Name  1M_Return  3M_Return  6M_Return  \\\n",
       "Symbol                                                                     \n",
       "QQQ         Invesco QQQ Trust, Series 1   0.017168   0.018465   0.152146   \n",
       "DBC     Invesco DB Commodity Index Trac  -0.007173   0.129932   0.271822   \n",
       "SPY                        SPDR S&P 500   0.045399   0.063518   0.192400   \n",
       "GLD                     SPDR Gold Trust  -0.011433  -0.103162  -0.096883   \n",
       "IEF     iShares 7-10 Year Treasury Bond  -0.023857  -0.057335  -0.069430   \n",
       "TLT     iShares 20+ Year Treasury Bond   -0.052453  -0.139224  -0.164905   \n",
       "\n",
       "        12M_Return  EW_MOMENTUM  \n",
       "Symbol                           \n",
       "QQQ       0.684186     0.217991  \n",
       "DBC       0.476444     0.217757  \n",
       "SPY       0.562311     0.215907  \n",
       "GLD       0.080446    -0.032758  \n",
       "IEF      -0.061508    -0.053033  \n",
       "TLT      -0.167392    -0.130993  "
      ]
     },
     "execution_count": 2,
     "metadata": {},
     "output_type": "execute_result"
    }
   ],
   "source": [
    "global_macro = ['SPY', 'QQQ', 'TLT', 'IEF', 'GLD', 'DBC']\n",
    "start_date = dt.datetime(1970,1,1)\n",
    "end_date = dt.datetime.today()\n",
    "momentum_df = momentum.calculate_equal_weight_momentum(global_macro, start_date, end_date, [1,3,6,12])\n",
    "momentum_df"
   ]
  },
  {
   "cell_type": "markdown",
   "id": "812d12aa",
   "metadata": {},
   "source": [
    "Based on the calcution above, we can see that QQQ has been the strongest market over the last year with 21.7% positive returns. Next, DBC and SPY have also around 21% returns. In contrast, Gold and US Bonds have negative returns over the last year. Clearly, equity markets have been much stronger than Gold and US Bonds markets.\n",
    "\n",
    "The underlying assumption is that if we start investing today, we should consider buying assets in equities or DBC rather than Gold or US Bonds as equities and DBC have higher momentum scores."
   ]
  },
  {
   "cell_type": "markdown",
   "id": "49c5e7d7",
   "metadata": {},
   "source": [
    "## US Sector Momentum"
   ]
  },
  {
   "cell_type": "markdown",
   "id": "59a345b5",
   "metadata": {},
   "source": [
    "### 1. Extract Sector Table from etfdb.com"
   ]
  },
  {
   "cell_type": "code",
   "execution_count": 4,
   "id": "c712f9f7",
   "metadata": {},
   "outputs": [],
   "source": [
    "url = 'https://etfdb.com/etfs/sector/'\n",
    "df = pd.read_html(url)[0].drop([11], axis=0)\n",
    "\n",
    "sectors = list(df['Sector'])\n",
    "sectors = [x.lower() for x in sectors]\n",
    "sectors = [x.replace(' ', '-') for x in sectors]\n",
    "sectors = [x.replace('discretionary', 'discretionaries') for x in sectors]\n",
    "#sectors"
   ]
  },
  {
   "cell_type": "markdown",
   "id": "4a0e6b56",
   "metadata": {},
   "source": [
    "### 2. Retrieve Top ETFs from Each Sector"
   ]
  },
  {
   "cell_type": "markdown",
   "id": "130d592f",
   "metadata": {},
   "source": [
    "Assumption here is that ETFs with the largest AUMs in each sector contains major companies in each sector, and their performance are reflected on the performance of ETFs. Of course, performance of individual stocks may vary from the overall performance of ETFs, but it's good to measure the overall sentiment of sector by analyzing the price performance of top ETFs."
   ]
  },
  {
   "cell_type": "code",
   "execution_count": 5,
   "id": "96226724",
   "metadata": {},
   "outputs": [],
   "source": [
    "top_etfs = {}\n",
    "for s in sectors:\n",
    "    sector_url = url + s + '/'\n",
    "    sector_data = pd.read_html(sector_url)[0]\n",
    "    etf_symbol = sector_data.loc[0, 'Symbol']\n",
    "    etf_name = sector_data.loc[0, 'ETF Name']\n",
    "    etf_industry = sector_data.loc[0, 'Industry']\n",
    "    etf_aum = sector_data.loc[0, 'Total Assets ($MM)']\n",
    "    top_etfs[s] = {}\n",
    "    top_etfs[s]['symbol'] = etf_symbol\n",
    "    top_etfs[s]['name'] = etf_name\n",
    "    top_etfs[s]['industry'] = etf_industry\n",
    "    top_etfs[s]['aum'] = etf_aum"
   ]
  },
  {
   "cell_type": "code",
   "execution_count": 8,
   "id": "184b1f48",
   "metadata": {},
   "outputs": [],
   "source": [
    "sector_data = {\n",
    "    'Symbol': [],\n",
    "    'Sector': [],\n",
    "    'Industry': [],\n",
    "    'AUM': []\n",
    "}\n",
    "\n",
    "for etf in top_etfs.keys():\n",
    "    symbol = top_etfs[etf]['symbol']\n",
    "    sector = etf\n",
    "    industry = top_etfs[etf]['industry']\n",
    "    aum = top_etfs[etf]['aum']\n",
    "\n",
    "    sector_data['Symbol'].append(symbol)\n",
    "    sector_data['Sector'].append(sector)\n",
    "    sector_data['Industry'].append(industry)\n",
    "    sector_data['AUM'].append(aum)"
   ]
  },
  {
   "cell_type": "markdown",
   "id": "09ad5930",
   "metadata": {},
   "source": [
    "### 3. Sector Momentum Calculation"
   ]
  },
  {
   "cell_type": "code",
   "execution_count": 15,
   "id": "33a8c230",
   "metadata": {},
   "outputs": [
    {
     "ename": "AttributeError",
     "evalue": "'DataFrame' object has no attribute 'set_values'",
     "output_type": "error",
     "traceback": [
      "\u001b[1;31m---------------------------------------------------------------------------\u001b[0m",
      "\u001b[1;31mAttributeError\u001b[0m                            Traceback (most recent call last)",
      "\u001b[1;32m<ipython-input-15-52d7e64bd185>\u001b[0m in \u001b[0;36m<module>\u001b[1;34m\u001b[0m\n\u001b[0;32m      3\u001b[0m \u001b[0msector_df\u001b[0m\u001b[1;33m.\u001b[0m\u001b[0mset_index\u001b[0m\u001b[1;33m(\u001b[0m\u001b[1;34m'Symbol'\u001b[0m\u001b[1;33m,\u001b[0m \u001b[0minplace\u001b[0m\u001b[1;33m=\u001b[0m\u001b[1;32mTrue\u001b[0m\u001b[1;33m)\u001b[0m\u001b[1;33m\u001b[0m\u001b[1;33m\u001b[0m\u001b[0m\n\u001b[0;32m      4\u001b[0m \u001b[0msector_df\u001b[0m\u001b[1;33m[\u001b[0m\u001b[1;34m'EW_MOMENTUM'\u001b[0m\u001b[1;33m]\u001b[0m \u001b[1;33m=\u001b[0m \u001b[0msector_momentum\u001b[0m\u001b[1;33m[\u001b[0m\u001b[1;34m'EW_MOMENTUM'\u001b[0m\u001b[1;33m]\u001b[0m\u001b[1;33m\u001b[0m\u001b[1;33m\u001b[0m\u001b[0m\n\u001b[1;32m----> 5\u001b[1;33m \u001b[0msector_df\u001b[0m\u001b[1;33m.\u001b[0m\u001b[0mset_values\u001b[0m\u001b[1;33m(\u001b[0m\u001b[0mby\u001b[0m\u001b[1;33m=\u001b[0m\u001b[1;34m'EW_MOMENTUM'\u001b[0m\u001b[1;33m,\u001b[0m \u001b[0mascending\u001b[0m\u001b[1;33m=\u001b[0m\u001b[1;32mFalse\u001b[0m\u001b[1;33m)\u001b[0m\u001b[1;33m\u001b[0m\u001b[1;33m\u001b[0m\u001b[0m\n\u001b[0m",
      "\u001b[1;32m~\\anaconda3\\lib\\site-packages\\pandas\\core\\generic.py\u001b[0m in \u001b[0;36m__getattr__\u001b[1;34m(self, name)\u001b[0m\n\u001b[0;32m   5463\u001b[0m             \u001b[1;32mif\u001b[0m \u001b[0mself\u001b[0m\u001b[1;33m.\u001b[0m\u001b[0m_info_axis\u001b[0m\u001b[1;33m.\u001b[0m\u001b[0m_can_hold_identifiers_and_holds_name\u001b[0m\u001b[1;33m(\u001b[0m\u001b[0mname\u001b[0m\u001b[1;33m)\u001b[0m\u001b[1;33m:\u001b[0m\u001b[1;33m\u001b[0m\u001b[1;33m\u001b[0m\u001b[0m\n\u001b[0;32m   5464\u001b[0m                 \u001b[1;32mreturn\u001b[0m \u001b[0mself\u001b[0m\u001b[1;33m[\u001b[0m\u001b[0mname\u001b[0m\u001b[1;33m]\u001b[0m\u001b[1;33m\u001b[0m\u001b[1;33m\u001b[0m\u001b[0m\n\u001b[1;32m-> 5465\u001b[1;33m             \u001b[1;32mreturn\u001b[0m \u001b[0mobject\u001b[0m\u001b[1;33m.\u001b[0m\u001b[0m__getattribute__\u001b[0m\u001b[1;33m(\u001b[0m\u001b[0mself\u001b[0m\u001b[1;33m,\u001b[0m \u001b[0mname\u001b[0m\u001b[1;33m)\u001b[0m\u001b[1;33m\u001b[0m\u001b[1;33m\u001b[0m\u001b[0m\n\u001b[0m\u001b[0;32m   5466\u001b[0m \u001b[1;33m\u001b[0m\u001b[0m\n\u001b[0;32m   5467\u001b[0m     \u001b[1;32mdef\u001b[0m \u001b[0m__setattr__\u001b[0m\u001b[1;33m(\u001b[0m\u001b[0mself\u001b[0m\u001b[1;33m,\u001b[0m \u001b[0mname\u001b[0m\u001b[1;33m:\u001b[0m \u001b[0mstr\u001b[0m\u001b[1;33m,\u001b[0m \u001b[0mvalue\u001b[0m\u001b[1;33m)\u001b[0m \u001b[1;33m->\u001b[0m \u001b[1;32mNone\u001b[0m\u001b[1;33m:\u001b[0m\u001b[1;33m\u001b[0m\u001b[1;33m\u001b[0m\u001b[0m\n",
      "\u001b[1;31mAttributeError\u001b[0m: 'DataFrame' object has no attribute 'set_values'"
     ]
    }
   ],
   "source": [
    "sector_momentum = momentum.calculate_equal_weight_momentum(sector_data['Symbol'], start_date, end_date, [1,3,6,12])"
   ]
  },
  {
   "cell_type": "code",
   "execution_count": 16,
   "id": "832753d9",
   "metadata": {},
   "outputs": [
    {
     "data": {
      "text/html": [
       "<div>\n",
       "<style scoped>\n",
       "    .dataframe tbody tr th:only-of-type {\n",
       "        vertical-align: middle;\n",
       "    }\n",
       "\n",
       "    .dataframe tbody tr th {\n",
       "        vertical-align: top;\n",
       "    }\n",
       "\n",
       "    .dataframe thead th {\n",
       "        text-align: right;\n",
       "    }\n",
       "</style>\n",
       "<table border=\"1\" class=\"dataframe\">\n",
       "  <thead>\n",
       "    <tr style=\"text-align: right;\">\n",
       "      <th></th>\n",
       "      <th>Sector</th>\n",
       "      <th>Industry</th>\n",
       "      <th>AUM</th>\n",
       "      <th>EW_MOMENTUM</th>\n",
       "    </tr>\n",
       "    <tr>\n",
       "      <th>Symbol</th>\n",
       "      <th></th>\n",
       "      <th></th>\n",
       "      <th></th>\n",
       "      <th></th>\n",
       "    </tr>\n",
       "  </thead>\n",
       "  <tbody>\n",
       "    <tr>\n",
       "      <th>XLE</th>\n",
       "      <td>energy</td>\n",
       "      <td>Oil &amp; Gas Exploration &amp; Production</td>\n",
       "      <td>$22,340.30</td>\n",
       "      <td>0.448858</td>\n",
       "    </tr>\n",
       "    <tr>\n",
       "      <th>XLF</th>\n",
       "      <td>financials</td>\n",
       "      <td>Broad Financials</td>\n",
       "      <td>$39,667.60</td>\n",
       "      <td>0.329591</td>\n",
       "    </tr>\n",
       "    <tr>\n",
       "      <th>XLI</th>\n",
       "      <td>industrials</td>\n",
       "      <td>Broad Industrials</td>\n",
       "      <td>$20,586.80</td>\n",
       "      <td>0.296919</td>\n",
       "    </tr>\n",
       "    <tr>\n",
       "      <th>VOX</th>\n",
       "      <td>telecom</td>\n",
       "      <td>Broad Telecom</td>\n",
       "      <td>$3,754.81</td>\n",
       "      <td>0.274553</td>\n",
       "    </tr>\n",
       "    <tr>\n",
       "      <th>XLY</th>\n",
       "      <td>consumer-discretionaries</td>\n",
       "      <td>Broad Consumer Discretionary</td>\n",
       "      <td>$20,816.30</td>\n",
       "      <td>0.241553</td>\n",
       "    </tr>\n",
       "    <tr>\n",
       "      <th>QQQ</th>\n",
       "      <td>technology</td>\n",
       "      <td>Broad Technology</td>\n",
       "      <td>$167,873.00</td>\n",
       "      <td>0.217991</td>\n",
       "    </tr>\n",
       "    <tr>\n",
       "      <th>VNQ</th>\n",
       "      <td>real-estate</td>\n",
       "      <td>Broad Real Estate</td>\n",
       "      <td>$37,261.60</td>\n",
       "      <td>0.174088</td>\n",
       "    </tr>\n",
       "    <tr>\n",
       "      <th>XLV</th>\n",
       "      <td>healthcare</td>\n",
       "      <td>Broad Healthcare</td>\n",
       "      <td>$25,617.30</td>\n",
       "      <td>0.131741</td>\n",
       "    </tr>\n",
       "    <tr>\n",
       "      <th>XLP</th>\n",
       "      <td>consumer-staples</td>\n",
       "      <td>Broad Consumer Staples</td>\n",
       "      <td>$10,658.70</td>\n",
       "      <td>0.118145</td>\n",
       "    </tr>\n",
       "    <tr>\n",
       "      <th>XLU</th>\n",
       "      <td>utilities</td>\n",
       "      <td>Broad Utilities</td>\n",
       "      <td>$12,659.30</td>\n",
       "      <td>0.106109</td>\n",
       "    </tr>\n",
       "    <tr>\n",
       "      <th>GDX</th>\n",
       "      <td>materials</td>\n",
       "      <td>Gold Miners</td>\n",
       "      <td>$15,024.30</td>\n",
       "      <td>0.049626</td>\n",
       "    </tr>\n",
       "  </tbody>\n",
       "</table>\n",
       "</div>"
      ],
      "text/plain": [
       "                          Sector                            Industry  \\\n",
       "Symbol                                                                 \n",
       "XLE                       energy  Oil & Gas Exploration & Production   \n",
       "XLF                   financials                    Broad Financials   \n",
       "XLI                  industrials                   Broad Industrials   \n",
       "VOX                      telecom                       Broad Telecom   \n",
       "XLY     consumer-discretionaries        Broad Consumer Discretionary   \n",
       "QQQ                   technology                    Broad Technology   \n",
       "VNQ                  real-estate                   Broad Real Estate   \n",
       "XLV                   healthcare                    Broad Healthcare   \n",
       "XLP             consumer-staples              Broad Consumer Staples   \n",
       "XLU                    utilities                     Broad Utilities   \n",
       "GDX                    materials                         Gold Miners   \n",
       "\n",
       "                AUM  EW_MOMENTUM  \n",
       "Symbol                            \n",
       "XLE      $22,340.30     0.448858  \n",
       "XLF      $39,667.60     0.329591  \n",
       "XLI      $20,586.80     0.296919  \n",
       "VOX       $3,754.81     0.274553  \n",
       "XLY      $20,816.30     0.241553  \n",
       "QQQ     $167,873.00     0.217991  \n",
       "VNQ      $37,261.60     0.174088  \n",
       "XLV      $25,617.30     0.131741  \n",
       "XLP      $10,658.70     0.118145  \n",
       "XLU      $12,659.30     0.106109  \n",
       "GDX      $15,024.30     0.049626  "
      ]
     },
     "execution_count": 16,
     "metadata": {},
     "output_type": "execute_result"
    }
   ],
   "source": [
    "sector_df = pd.DataFrame(sector_data)\n",
    "sector_df.set_index('Symbol', inplace=True)\n",
    "sector_df['EW_MOMENTUM'] = sector_momentum['EW_MOMENTUM']\n",
    "sector_df.sort_values(by='EW_MOMENTUM', ascending=False)"
   ]
  },
  {
   "cell_type": "markdown",
   "id": "23d13fb4",
   "metadata": {},
   "source": [
    "Based on the momentum calculation above, Oil & Gas sector has the highest momentum score with 44.8% positive returns and Gold industry has the lowest momentum score with 4.96% positive returns."
   ]
  },
  {
   "cell_type": "markdown",
   "id": "d5c69440",
   "metadata": {},
   "source": [
    "## US Individual Stocks"
   ]
  },
  {
   "cell_type": "markdown",
   "id": "bf6aae42",
   "metadata": {},
   "source": [
    "S&P 500 -> 20 Years Dividend Payout -> Dividend Growth greater than 8% -> uptrend"
   ]
  },
  {
   "cell_type": "code",
   "execution_count": null,
   "id": "29e7cb84",
   "metadata": {},
   "outputs": [],
   "source": []
  },
  {
   "cell_type": "code",
   "execution_count": null,
   "id": "ad73ab18",
   "metadata": {},
   "outputs": [],
   "source": []
  },
  {
   "cell_type": "code",
   "execution_count": null,
   "id": "73dabfa3",
   "metadata": {},
   "outputs": [],
   "source": []
  },
  {
   "cell_type": "code",
   "execution_count": null,
   "id": "561f8351",
   "metadata": {},
   "outputs": [],
   "source": [
    "equity_universe = ['DOW JONES']\n",
    "symbols = []\n",
    "for equity in equity_universe:\n",
    "    data = pyticker.get_symbols_by_index(equity)\n",
    "    for d in data:\n",
    "        if d not in symbols:\n",
    "            symbols.append(d)"
   ]
  },
  {
   "cell_type": "code",
   "execution_count": null,
   "id": "21639b4f",
   "metadata": {},
   "outputs": [],
   "source": [
    "threshold = 20\n",
    "\n",
    "dividend_symbols = []\n",
    "\n",
    "for symbol in symbols:\n",
    "    if fundamentals.get_consecutive_dividend_payout_history(symbol, threshold) != None:\n",
    "        dividend_symbols.append(symbol)\n"
   ]
  },
  {
   "cell_type": "code",
   "execution_count": null,
   "id": "29bbaf8b",
   "metadata": {},
   "outputs": [],
   "source": [
    "print(fundamentals.get_consecutive_dividend_payout_history('CRM', 20))"
   ]
  },
  {
   "cell_type": "code",
   "execution_count": null,
   "id": "f0f15409",
   "metadata": {},
   "outputs": [],
   "source": [
    "dividend_symbols"
   ]
  },
  {
   "cell_type": "code",
   "execution_count": null,
   "id": "0ce7f33a",
   "metadata": {},
   "outputs": [],
   "source": [
    "data_dict = {'Symbol': [], 'Dividend Growth': [], 'Dividend Yield': []}\n",
    "\n",
    "yrs = 15\n",
    "\n",
    "for symbol in dividend_symbols:\n",
    "    print(symbol)\n",
    "    data_dict['Symbol'].append(symbol)\n",
    "    data_dict['Dividend Growth'].append(fundamentals.calcualte_avg_dividend_growth(symbol, yrs))\n",
    "    data_dict['Dividend Yield'].append(fundamentals.calculate_current_dividend_yield(symbol))   "
   ]
  },
  {
   "cell_type": "code",
   "execution_count": null,
   "id": "79f470ba",
   "metadata": {},
   "outputs": [],
   "source": [
    "data_dict"
   ]
  },
  {
   "cell_type": "code",
   "execution_count": null,
   "id": "e2f4e5df",
   "metadata": {},
   "outputs": [],
   "source": [
    "df = pd.DataFrame(data_dict)\n",
    "df.sort_values(by=['Dividend Growth', 'Dividend Yield'], ascending=False, inplace=True)"
   ]
  },
  {
   "cell_type": "code",
   "execution_count": null,
   "id": "e418fd02",
   "metadata": {},
   "outputs": [],
   "source": [
    "df"
   ]
  },
  {
   "cell_type": "code",
   "execution_count": null,
   "id": "33bc3a8e",
   "metadata": {},
   "outputs": [],
   "source": [
    "df = df[(df['Dividend Growth'] >= 0.05) & (df['Dividend Yield'] > 0.01)]\n",
    "df"
   ]
  },
  {
   "cell_type": "code",
   "execution_count": null,
   "id": "52efde1b",
   "metadata": {},
   "outputs": [],
   "source": [
    "df.set_index('Symbol', inplace=True)"
   ]
  },
  {
   "cell_type": "code",
   "execution_count": null,
   "id": "7d17fba5",
   "metadata": {},
   "outputs": [],
   "source": [
    "df"
   ]
  },
  {
   "cell_type": "code",
   "execution_count": null,
   "id": "338bcd36",
   "metadata": {},
   "outputs": [],
   "source": [
    "df = df.sort_values(by='Dividend Yield', ascending=False)\n",
    "df"
   ]
  },
  {
   "cell_type": "code",
   "execution_count": null,
   "id": "54fb6282",
   "metadata": {},
   "outputs": [],
   "source": [
    "mom = momentum.calculate_equal_weight_momentum(list(df.index), start_date, end_date, [1,3,6,12])"
   ]
  },
  {
   "cell_type": "code",
   "execution_count": null,
   "id": "42bdd767",
   "metadata": {},
   "outputs": [],
   "source": [
    "mom"
   ]
  },
  {
   "cell_type": "code",
   "execution_count": null,
   "id": "f686f0b1",
   "metadata": {},
   "outputs": [],
   "source": [
    "df['EW_MOMENTUM'] = mom['EW_MOMENTUM']"
   ]
  },
  {
   "cell_type": "code",
   "execution_count": null,
   "id": "7f2faff9",
   "metadata": {},
   "outputs": [],
   "source": [
    "df"
   ]
  },
  {
   "cell_type": "code",
   "execution_count": null,
   "id": "b07fd827",
   "metadata": {},
   "outputs": [],
   "source": [
    "df = df.sort_values(by='EW_MOMENTUM', ascending=False)\n",
    "df"
   ]
  },
  {
   "cell_type": "code",
   "execution_count": null,
   "id": "1d82a39d",
   "metadata": {},
   "outputs": [],
   "source": [
    "dt.datetime.strptime('2020-10-01', '%Y-%m-%d')"
   ]
  },
  {
   "cell_type": "code",
   "execution_count": null,
   "id": "d8ae21b3",
   "metadata": {},
   "outputs": [],
   "source": []
  }
 ],
 "metadata": {
  "kernelspec": {
   "display_name": "Python 3",
   "language": "python",
   "name": "python3"
  },
  "language_info": {
   "codemirror_mode": {
    "name": "ipython",
    "version": 3
   },
   "file_extension": ".py",
   "mimetype": "text/x-python",
   "name": "python",
   "nbconvert_exporter": "python",
   "pygments_lexer": "ipython3",
   "version": "3.8.8"
  },
  "toc": {
   "base_numbering": 1,
   "nav_menu": {},
   "number_sections": false,
   "sideBar": true,
   "skip_h1_title": true,
   "title_cell": "Table of Contents",
   "title_sidebar": "Contents",
   "toc_cell": false,
   "toc_position": {},
   "toc_section_display": true,
   "toc_window_display": false
  },
  "varInspector": {
   "cols": {
    "lenName": 16,
    "lenType": 16,
    "lenVar": 40
   },
   "kernels_config": {
    "python": {
     "delete_cmd_postfix": "",
     "delete_cmd_prefix": "del ",
     "library": "var_list.py",
     "varRefreshCmd": "print(var_dic_list())"
    },
    "r": {
     "delete_cmd_postfix": ") ",
     "delete_cmd_prefix": "rm(",
     "library": "var_list.r",
     "varRefreshCmd": "cat(var_dic_list()) "
    }
   },
   "types_to_exclude": [
    "module",
    "function",
    "builtin_function_or_method",
    "instance",
    "_Feature"
   ],
   "window_display": false
  }
 },
 "nbformat": 4,
 "nbformat_minor": 5
}
