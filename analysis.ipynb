{
 "cells": [
  {
   "cell_type": "code",
   "execution_count": null,
   "id": "0de3acc7",
   "metadata": {},
   "outputs": [],
   "source": [
    "import pandas as pd\n",
    "\n",
    "import dataSrc\n",
    "import utilities\n",
    "\n",
    "# Retrieve symbols and financials\n",
    "\n",
    "sp500_tickers = dataSrc.sp500_symbols()\n",
    "dow_tickers = dataSrc.dow_symbols()\n",
    "\n",
    "# sp500_financials = dataSrc.financials(sp500_tickers)\n",
    "\n",
    "df = dataSrc.financials(dow_tickers)\n",
    "\n",
    "# df = pd.read_csv('./R/data/dow_financials.csv')\n",
    "# df = df.drop(['Unnamed: 0'], axis=1)\n",
    "# df = df.dropna()\n",
    "\n",
    "conditions = ((df[\"Revenue_Growth\"] > 0)\n",
    "              & (df[\"GPMargin\"] > 0)\n",
    "              & (df[\"EPS_Growth\"] > 0)\n",
    "              & (df[\"ROE\"] > 0)\n",
    "              & (df[\"DPS_Growth\"] > 0)\n",
    "              & (df[\"DivYield\"] > 0))\n",
    "df = df[conditions]\n",
    "\n",
    "# Compute historical momentum\n",
    "# Average momentum of prev 12M, 24M and 36M\n",
    "\n",
    "m12_momentums = []\n",
    "m24_momentums = []\n",
    "m36_momentums = []\n",
    "count = 0\n",
    "for symbol in df[\"symbol\"]:\n",
    "    count += 1\n",
    "    m12_momentums.append(utilities.calculate_hist_momentum(symbol, 252))\n",
    "    m24_momentums.append(utilities.calculate_hist_momentum(symbol, 504))\n",
    "    m36_momentums.append(utilities.calculate_hist_momentum(symbol, 756))\n",
    "\n",
    "df[\"m12_momentum\"] = m12_momentums\n",
    "df[\"m24_momentum\"] = m24_momentums\n",
    "df[\"m36_momentum\"] = m36_momentums\n",
    "\n",
    "\n",
    "# watchlist = positive_mom[[\"symbol\", \"name\"]].copy()\n",
    "\n",
    "# # Update current prices, 52W High and Discount %\n",
    "\n",
    "# currentPrices = []\n",
    "# highs = []\n",
    "# discounts = []\n",
    "# count = 0\n",
    "\n",
    "# for symbol in watchlist[\"symbol\"]:\n",
    "#     count += 1\n",
    "#     print(f\"{symbol}: {count}/{len(watchlist['symbol'])}\")\n",
    "#     currentPrice = utilities.get_current_price(symbol)\n",
    "#     high = utilities.calculate_prev_max_high(symbol, 252)\n",
    "#     discount_pct = (currentPrice - high) / high\n",
    "\n",
    "#     currentPrices.append(currentPrice)\n",
    "#     highs.append(high)\n",
    "#     discounts.append(discount_pct)\n",
    "\n",
    "# watchlist[\"CurrentPrice\"] = currentPrices\n",
    "# watchlist[\"52W_High\"] = highs\n",
    "# watchlist[\"Discount%\"] = discounts\n",
    "\n",
    "# watchlist = watchlist.sort_values(by=\"Discount%\")\n",
    "\n",
    "# watchlist"
   ]
  },
  {
   "cell_type": "code",
   "execution_count": null,
   "id": "7d799cf6",
   "metadata": {},
   "outputs": [],
   "source": [
    "positive_mom_stocks = df[(df['m12_momentum'] > 0) & (df['m24_momentum'] > 0)\n",
    "                         & (df['m36_momentum'] > 0)]\n",
    "positive_mom_stocks"
   ]
  },
  {
   "cell_type": "code",
   "execution_count": null,
   "id": "cae507e8",
   "metadata": {},
   "outputs": [],
   "source": [
    "#!jupyter nbconvert --to script --no-prompt analysis.ipynb"
   ]
  }
 ],
 "metadata": {
  "kernelspec": {
   "display_name": "Python 3",
   "language": "python",
   "name": "python3"
  },
  "language_info": {
   "codemirror_mode": {
    "name": "ipython",
    "version": 3
   },
   "file_extension": ".py",
   "mimetype": "text/x-python",
   "name": "python",
   "nbconvert_exporter": "python",
   "pygments_lexer": "ipython3",
   "version": "3.8.10"
  },
  "toc": {
   "base_numbering": 1,
   "nav_menu": {},
   "number_sections": false,
   "sideBar": true,
   "skip_h1_title": true,
   "title_cell": "Table of Contents",
   "title_sidebar": "Contents",
   "toc_cell": false,
   "toc_position": {},
   "toc_section_display": true,
   "toc_window_display": false
  },
  "varInspector": {
   "cols": {
    "lenName": 16,
    "lenType": 16,
    "lenVar": 40
   },
   "kernels_config": {
    "python": {
     "delete_cmd_postfix": "",
     "delete_cmd_prefix": "del ",
     "library": "var_list.py",
     "varRefreshCmd": "print(var_dic_list())"
    },
    "r": {
     "delete_cmd_postfix": ") ",
     "delete_cmd_prefix": "rm(",
     "library": "var_list.r",
     "varRefreshCmd": "cat(var_dic_list()) "
    }
   },
   "types_to_exclude": [
    "module",
    "function",
    "builtin_function_or_method",
    "instance",
    "_Feature"
   ],
   "window_display": false
  }
 },
 "nbformat": 4,
 "nbformat_minor": 5
}
