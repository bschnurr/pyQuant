{
 "cells": [
  {
   "cell_type": "code",
   "execution_count": 1,
   "id": "0de3acc7",
   "metadata": {},
   "outputs": [],
   "source": [
    "#!/usr/bin/env python\n",
    "# coding: utf-8\n",
    "\n",
    "import pandas as pd\n",
    "\n",
    "import dataSrc\n",
    "import utilities\n",
    "\n",
    "# Retrieve symbols and financials\n",
    "\n",
    "sp500_tickers = dataSrc.sp500_symbols()\n",
    "dow_tickers = dataSrc.dow_symbols()\n",
    "\n",
    "\n",
    "# sp500_financials = dataSrc.financials(sp500_tickers)\n",
    "\n",
    "\n",
    "df = dataSrc.financials(dow_tickers)\n",
    "\n",
    "\n",
    "# df = pd.read_csv('./R/data/dow_financials.csv')\n",
    "# df = df.drop(['Unnamed: 0'], axis=1)\n",
    "# df = df.dropna()\n",
    "\n",
    "\n",
    "conditions = (\n",
    "    (df[\"Revenue_Growth\"] > 0)\n",
    "    & (df[\"GPMargin\"] > 0)\n",
    "    & (df[\"EPS_Growth\"] > 0)\n",
    "    & (df[\"ROE\"] > 0)\n",
    "    & (df[\"DPS_Growth\"] > 0)\n",
    "    & (df[\"DivYield\"] > 0)\n",
    ")\n",
    "df = df[conditions]\n",
    "\n",
    "\n",
    "# Compute historical momentum\n",
    "# Average momentum of prev 6M, 12M and 24M\n",
    "\n",
    "mom_list = []\n",
    "for symbol in df[\"symbol\"]:\n",
    "    print(symbol)\n",
    "    m12_momentum = utilities.calculate_hist_momentum(symbol, 252)\n",
    "    m24_momentum = utilities.calculate_hist_momentum(symbol, 504)\n",
    "    m36_momentum = utilities.calculate_hist_momentum(symbol, 756)\n",
    "    avg_momentum = (m12_momentum + m24_momentum + m36_momentum) / 3\n",
    "    mom_list.append(avg_momentum)\n",
    "\n",
    "df[\"momentum\"] = mom_list\n",
    "\n",
    "df[\"mom_rank\"] = df[\"momentum\"].rank()\n",
    "df = df.sort_values(by=[\"mom_rank\"], ascending=False)\n",
    "# numRows = df.shape[0]\n",
    "# numCols = df.shape[1]\n",
    "# top10 = df.copy()\n",
    "df = df[df[\"momentum\"] > 0]\n",
    "\n",
    "\n",
    "watchlist = df[[\"symbol\", \"name\"]].copy()\n",
    "\n",
    "# Update current prices, 52W High and Discount %\n",
    "\n",
    "currentPrices = []\n",
    "highs = []\n",
    "discounts = []\n",
    "\n",
    "for symbol in watchlist[\"symbol\"]:\n",
    "    print(symbol)\n",
    "    currentPrice = utilities.get_current_price(symbol)\n",
    "    high = utilities.calculate_prev_max_high(symbol, 252)\n",
    "    discount_pct = (currentPrice - high) / high\n",
    "\n",
    "    currentPrices.append(currentPrice)\n",
    "    highs.append(high)\n",
    "    discounts.append(discount_pct)\n",
    "\n",
    "\n",
    "watchlist[\"CurrentPrice\"] = currentPrices\n",
    "watchlist[\"52W_High\"] = highs\n",
    "watchlist[\"Discount%\"] = discounts\n",
    "\n",
    "\n",
    "watchlist = watchlist.sort_values(by=\"Discount%\")\n",
    "\n",
    "\n",
    "watchlist\n"
   ]
  },
  {
   "cell_type": "code",
   "execution_count": 14,
   "id": "cae507e8",
   "metadata": {},
   "outputs": [
    {
     "name": "stderr",
     "output_type": "stream",
     "text": [
      "[NbConvertApp] Converting notebook analysis.ipynb to script\n",
      "[NbConvertApp] Writing 1957 bytes to analysis.py\n"
     ]
    }
   ],
   "source": [
    "!jupyter nbconvert --to script --no-prompt analysis.ipynb"
   ]
  },
  {
   "cell_type": "code",
   "execution_count": null,
   "id": "d88b3c85",
   "metadata": {},
   "outputs": [],
   "source": []
  }
 ],
 "metadata": {
  "kernelspec": {
   "display_name": "Python 3",
   "language": "python",
   "name": "python3"
  },
  "language_info": {
   "codemirror_mode": {
    "name": "ipython",
    "version": 3
   },
   "file_extension": ".py",
   "mimetype": "text/x-python",
   "name": "python",
   "nbconvert_exporter": "python",
   "pygments_lexer": "ipython3",
   "version": "3.8.10"
  },
  "toc": {
   "base_numbering": 1,
   "nav_menu": {},
   "number_sections": false,
   "sideBar": true,
   "skip_h1_title": true,
   "title_cell": "Table of Contents",
   "title_sidebar": "Contents",
   "toc_cell": false,
   "toc_position": {},
   "toc_section_display": true,
   "toc_window_display": false
  },
  "varInspector": {
   "cols": {
    "lenName": 16,
    "lenType": 16,
    "lenVar": 40
   },
   "kernels_config": {
    "python": {
     "delete_cmd_postfix": "",
     "delete_cmd_prefix": "del ",
     "library": "var_list.py",
     "varRefreshCmd": "print(var_dic_list())"
    },
    "r": {
     "delete_cmd_postfix": ") ",
     "delete_cmd_prefix": "rm(",
     "library": "var_list.r",
     "varRefreshCmd": "cat(var_dic_list()) "
    }
   },
   "types_to_exclude": [
    "module",
    "function",
    "builtin_function_or_method",
    "instance",
    "_Feature"
   ],
   "window_display": false
  }
 },
 "nbformat": 4,
 "nbformat_minor": 5
}
