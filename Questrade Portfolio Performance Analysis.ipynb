{
 "cells": [
  {
   "cell_type": "code",
   "execution_count": 1,
   "metadata": {},
   "outputs": [],
   "source": [
    "import os\n",
    "import math\n",
    "import requests\n",
    "import numpy as np\n",
    "import pandas as pd\n",
    "import datetime as dt\n",
    "import matplotlib.pyplot as plt\n",
    "from questrade import QuestradeBot"
   ]
  },
  {
   "cell_type": "markdown",
   "metadata": {},
   "source": [
    "# Instance Initialization"
   ]
  },
  {
   "cell_type": "code",
   "execution_count": 2,
   "metadata": {},
   "outputs": [
    {
     "name": "stdout",
     "output_type": "stream",
     "text": [
      "51802566\n"
     ]
    }
   ],
   "source": [
    "qbot = QuestradeBot()"
   ]
  },
  {
   "cell_type": "markdown",
   "metadata": {},
   "source": [
    "# Account Balance"
   ]
  },
  {
   "cell_type": "code",
   "execution_count": 3,
   "metadata": {},
   "outputs": [
    {
     "data": {
      "text/html": [
       "<div>\n",
       "<style scoped>\n",
       "    .dataframe tbody tr th:only-of-type {\n",
       "        vertical-align: middle;\n",
       "    }\n",
       "\n",
       "    .dataframe tbody tr th {\n",
       "        vertical-align: top;\n",
       "    }\n",
       "\n",
       "    .dataframe thead th {\n",
       "        text-align: right;\n",
       "    }\n",
       "</style>\n",
       "<table border=\"1\" class=\"dataframe\">\n",
       "  <thead>\n",
       "    <tr style=\"text-align: right;\">\n",
       "      <th></th>\n",
       "      <th>Cash</th>\n",
       "      <th>Market_Value</th>\n",
       "      <th>Total_Equity</th>\n",
       "      <th>Cash (%)</th>\n",
       "      <th>Investment (%)</th>\n",
       "    </tr>\n",
       "    <tr>\n",
       "      <th>Currency</th>\n",
       "      <th></th>\n",
       "      <th></th>\n",
       "      <th></th>\n",
       "      <th></th>\n",
       "      <th></th>\n",
       "    </tr>\n",
       "  </thead>\n",
       "  <tbody>\n",
       "    <tr>\n",
       "      <th>CAD</th>\n",
       "      <td>31785.3365</td>\n",
       "      <td>0.00</td>\n",
       "      <td>31785.3365</td>\n",
       "      <td>100.00</td>\n",
       "      <td>0.00</td>\n",
       "    </tr>\n",
       "    <tr>\n",
       "      <th>USD</th>\n",
       "      <td>21725.1815</td>\n",
       "      <td>10823.04</td>\n",
       "      <td>32548.2215</td>\n",
       "      <td>66.75</td>\n",
       "      <td>33.25</td>\n",
       "    </tr>\n",
       "  </tbody>\n",
       "</table>\n",
       "</div>"
      ],
      "text/plain": [
       "                Cash  Market_Value  Total_Equity  Cash (%)  Investment (%)\n",
       "Currency                                                                  \n",
       "CAD       31785.3365          0.00    31785.3365    100.00            0.00\n",
       "USD       21725.1815      10823.04    32548.2215     66.75           33.25"
      ]
     },
     "execution_count": 3,
     "metadata": {},
     "output_type": "execute_result"
    }
   ],
   "source": [
    "balance = qbot.get_balance()\n",
    "balance"
   ]
  },
  {
   "cell_type": "markdown",
   "metadata": {},
   "source": [
    "# Portfolio Holdings"
   ]
  },
  {
   "cell_type": "code",
   "execution_count": 4,
   "metadata": {},
   "outputs": [
    {
     "data": {
      "text/html": [
       "<div>\n",
       "<style scoped>\n",
       "    .dataframe tbody tr th:only-of-type {\n",
       "        vertical-align: middle;\n",
       "    }\n",
       "\n",
       "    .dataframe tbody tr th {\n",
       "        vertical-align: top;\n",
       "    }\n",
       "\n",
       "    .dataframe thead th {\n",
       "        text-align: right;\n",
       "    }\n",
       "</style>\n",
       "<table border=\"1\" class=\"dataframe\">\n",
       "  <thead>\n",
       "    <tr style=\"text-align: right;\">\n",
       "      <th></th>\n",
       "      <th>Description</th>\n",
       "      <th>Currency</th>\n",
       "      <th>Quantities</th>\n",
       "      <th>Market Value</th>\n",
       "      <th>Return (%)</th>\n",
       "      <th>Portfolio (%)</th>\n",
       "    </tr>\n",
       "  </thead>\n",
       "  <tbody>\n",
       "    <tr>\n",
       "      <th>MMM</th>\n",
       "      <td>3M COMPANY</td>\n",
       "      <td>USD</td>\n",
       "      <td>3</td>\n",
       "      <td>581.55</td>\n",
       "      <td>-1.54</td>\n",
       "      <td>5.37</td>\n",
       "    </tr>\n",
       "    <tr>\n",
       "      <th>O</th>\n",
       "      <td>REALTY INCOME CORP</td>\n",
       "      <td>USD</td>\n",
       "      <td>75</td>\n",
       "      <td>5451.75</td>\n",
       "      <td>18.77</td>\n",
       "      <td>50.37</td>\n",
       "    </tr>\n",
       "    <tr>\n",
       "      <th>JPM</th>\n",
       "      <td>JPMORGAN CHASE &amp; CO.</td>\n",
       "      <td>USD</td>\n",
       "      <td>6</td>\n",
       "      <td>960.84</td>\n",
       "      <td>4.35</td>\n",
       "      <td>8.88</td>\n",
       "    </tr>\n",
       "    <tr>\n",
       "      <th>VTI</th>\n",
       "      <td>VANGUARD INDEX FUNDS VANGUARD TOTAL STOCK MARK...</td>\n",
       "      <td>USD</td>\n",
       "      <td>3</td>\n",
       "      <td>702.30</td>\n",
       "      <td>19.63</td>\n",
       "      <td>6.49</td>\n",
       "    </tr>\n",
       "    <tr>\n",
       "      <th>QQQ</th>\n",
       "      <td>INVESCO QQQ TRUST UNIT SER 1</td>\n",
       "      <td>USD</td>\n",
       "      <td>2</td>\n",
       "      <td>764.40</td>\n",
       "      <td>19.56</td>\n",
       "      <td>7.06</td>\n",
       "    </tr>\n",
       "    <tr>\n",
       "      <th>GLD</th>\n",
       "      <td>SPDR GOLD TRUST GOLD SHARES NPV</td>\n",
       "      <td>USD</td>\n",
       "      <td>7</td>\n",
       "      <td>1187.55</td>\n",
       "      <td>-2.67</td>\n",
       "      <td>10.97</td>\n",
       "    </tr>\n",
       "    <tr>\n",
       "      <th>TLT</th>\n",
       "      <td>ISHARES TRUST BARCLAYS 20+ TREAS BD FD TO 07/0...</td>\n",
       "      <td>USD</td>\n",
       "      <td>4</td>\n",
       "      <td>594.76</td>\n",
       "      <td>-1.96</td>\n",
       "      <td>5.50</td>\n",
       "    </tr>\n",
       "    <tr>\n",
       "      <th>IEF</th>\n",
       "      <td>ISHARES TRUST BARCLAYS 7-10 YEAR TREASURY BOND...</td>\n",
       "      <td>USD</td>\n",
       "      <td>5</td>\n",
       "      <td>585.30</td>\n",
       "      <td>-1.33</td>\n",
       "      <td>5.41</td>\n",
       "    </tr>\n",
       "  </tbody>\n",
       "</table>\n",
       "</div>"
      ],
      "text/plain": [
       "                                           Description Currency  Quantities  \\\n",
       "MMM                                         3M COMPANY      USD           3   \n",
       "O                                   REALTY INCOME CORP      USD          75   \n",
       "JPM                               JPMORGAN CHASE & CO.      USD           6   \n",
       "VTI  VANGUARD INDEX FUNDS VANGUARD TOTAL STOCK MARK...      USD           3   \n",
       "QQQ                       INVESCO QQQ TRUST UNIT SER 1      USD           2   \n",
       "GLD                    SPDR GOLD TRUST GOLD SHARES NPV      USD           7   \n",
       "TLT  ISHARES TRUST BARCLAYS 20+ TREAS BD FD TO 07/0...      USD           4   \n",
       "IEF  ISHARES TRUST BARCLAYS 7-10 YEAR TREASURY BOND...      USD           5   \n",
       "\n",
       "     Market Value  Return (%)  Portfolio (%)  \n",
       "MMM        581.55       -1.54           5.37  \n",
       "O         5451.75       18.77          50.37  \n",
       "JPM        960.84        4.35           8.88  \n",
       "VTI        702.30       19.63           6.49  \n",
       "QQQ        764.40       19.56           7.06  \n",
       "GLD       1187.55       -2.67          10.97  \n",
       "TLT        594.76       -1.96           5.50  \n",
       "IEF        585.30       -1.33           5.41  "
      ]
     },
     "execution_count": 4,
     "metadata": {},
     "output_type": "execute_result"
    }
   ],
   "source": [
    "portfolio = qbot.get_investment_summary()\n",
    "portfolio"
   ]
  },
  {
   "cell_type": "code",
   "execution_count": 5,
   "metadata": {},
   "outputs": [
    {
     "data": {
      "text/plain": [
       "<AxesSubplot:title={'center':'Portfolio Breakdown'}, ylabel='Portfolio (%)'>"
      ]
     },
     "execution_count": 5,
     "metadata": {},
     "output_type": "execute_result"
    },
    {
     "data": {
      "image/png": "[encoded data removed]",
      "text/plain": [
       "<Figure size 720x720 with 1 Axes>"
      ]
     },
     "metadata": {},
     "output_type": "display_data"
    }
   ],
   "source": [
    "portfolio['Portfolio (%)'].plot(kind='pie',\n",
    "                             title='Portfolio Breakdown',\n",
    "                             figsize=(10, 10),\n",
    "                             legend=True)"
   ]
  },
  {
   "cell_type": "markdown",
   "metadata": {},
   "source": [
    "# Monthly Dividend Income"
   ]
  },
  {
   "cell_type": "code",
   "execution_count": 10,
   "metadata": {},
   "outputs": [],
   "source": [
    "div = qbot.get_dividend_income()\n",
    "div.loc['Total'] = div.sum(numeric_only=True, axis=0)"
   ]
  },
  {
   "cell_type": "code",
   "execution_count": 11,
   "metadata": {},
   "outputs": [
    {
     "data": {
      "text/plain": [
       "<AxesSubplot:title={'center':'Monthly Dividend Payments'}, xlabel='Months', ylabel='Dividend ($)'>"
      ]
     },
     "execution_count": 11,
     "metadata": {},
     "output_type": "execute_result"
    },
    {
     "data": {
      "image/png": "[encoded data removed]",
      "text/plain": [
       "<Figure size 1080x720 with 1 Axes>"
      ]
     },
     "metadata": {
      "needs_background": "light"
     },
     "output_type": "display_data"
    }
   ],
   "source": [
    "div[:-1].plot(kind='bar',\n",
    "                    title='Monthly Dividend Payments',\n",
    "                    xlabel='Months',\n",
    "                    ylabel='Dividend ($)',\n",
    "                    figsize=(15, 10),\n",
    "                    legend=False,\n",
    "                    ylim=(0, 30))"
   ]
  },
  {
   "cell_type": "markdown",
   "metadata": {},
   "source": [
    "# Performance Against Benchmark"
   ]
  },
  {
   "cell_type": "code",
   "execution_count": null,
   "metadata": {},
   "outputs": [],
   "source": []
  }
 ],
 "metadata": {
  "kernelspec": {
   "display_name": "Python 3",
   "language": "python",
   "name": "python3"
  },
  "language_info": {
   "codemirror_mode": {
    "name": "ipython",
    "version": 3
   },
   "file_extension": ".py",
   "mimetype": "text/x-python",
   "name": "python",
   "nbconvert_exporter": "python",
   "pygments_lexer": "ipython3",
   "version": "3.8.10"
  },
  "toc": {
   "base_numbering": 1,
   "nav_menu": {},
   "number_sections": false,
   "sideBar": true,
   "skip_h1_title": true,
   "title_cell": "Table of Contents",
   "title_sidebar": "Contents",
   "toc_cell": false,
   "toc_position": {
    "height": "calc(100% - 180px)",
    "left": "10px",
    "top": "150px",
    "width": "384px"
   },
   "toc_section_display": true,
   "toc_window_display": true
  },
  "varInspector": {
   "cols": {
    "lenName": 16,
    "lenType": 16,
    "lenVar": 40
   },
   "kernels_config": {
    "python": {
     "delete_cmd_postfix": "",
     "delete_cmd_prefix": "del ",
     "library": "var_list.py",
     "varRefreshCmd": "print(var_dic_list())"
    },
    "r": {
     "delete_cmd_postfix": ") ",
     "delete_cmd_prefix": "rm(",
     "library": "var_list.r",
     "varRefreshCmd": "cat(var_dic_list()) "
    }
   },
   "types_to_exclude": [
    "module",
    "function",
    "builtin_function_or_method",
    "instance",
    "_Feature"
   ],
   "window_display": false
  }
 },
 "nbformat": 4,
 "nbformat_minor": 4
}
