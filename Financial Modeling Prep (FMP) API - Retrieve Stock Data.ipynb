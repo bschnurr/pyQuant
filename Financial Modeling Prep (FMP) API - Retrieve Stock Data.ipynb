{
 "cells": [
  {
   "cell_type": "markdown",
   "metadata": {},
   "source": [
    "# Financial Modeling Prep (FMP) API"
   ]
  },
  {
   "cell_type": "code",
   "execution_count": 19,
   "metadata": {},
   "outputs": [],
   "source": [
    "import requests\n",
    "import pandas as pd\n",
    "import pandas_datareader.data as web\n",
    "import datetime as dt"
   ]
  },
  {
   "cell_type": "markdown",
   "metadata": {},
   "source": [
    "## Get Basic Stock Data from FMP API"
   ]
  },
  {
   "cell_type": "code",
   "execution_count": 24,
   "metadata": {},
   "outputs": [],
   "source": [
    "import requests\n",
    "\n",
    "companyData = {}\n",
    "\n",
    "demo = open(\"./security_tokens/fmp_api.txt\", 'r').read()\n",
    "\n",
    "for ticker in consumer_defensive['Ticker']:\n",
    "    try:\n",
    "        companyProfile = requests.get(\n",
    "            f'https://financialmodelingprep.com/api/v3/profile/{ticker}?apikey={demo}'\n",
    "        )\n",
    "\n",
    "        companyProfile = companyProfile.json()\n",
    "        price = companyProfile[0]['price']\n",
    "        marketCapitalization = companyProfile[0]['mktCap']\n",
    "        name = companyProfile[0]['companyName']\n",
    "        exchange = companyProfile[0]['exchange']\n",
    "        div = companyProfile[0]['lastDiv']\n",
    "\n",
    "        companyData[ticker] = {}\n",
    "        companyData[ticker]['companyName'] = name\n",
    "        companyData[ticker]['exchange'] = exchange\n",
    "        companyData[ticker]['marketCap_in_B'] = marketCapitalization / 1000000000\n",
    "        companyData[ticker]['latestPrice'] = price\n",
    "        companyData[ticker]['latestDividend'] = div\n",
    "\n",
    "        financialRatios = requests.get(\n",
    "            f'https://financialmodelingprep.com/api/v3/ratios-ttm/{ticker}?apikey={demo}'\n",
    "        )\n",
    "\n",
    "        financialRatios = financialRatios.json()\n",
    "\n",
    "        companyData[ticker]['dividendYieldPercent'] = financialRatios[0][\"dividendYielPercentageTTM\"]\n",
    "        companyData[ticker]['PER'] = financialRatios[0]['peRatioTTM']\n",
    "        companyData[ticker]['ROE'] = financialRatios[0]['returnOnEquityTTM']\n",
    "\n",
    "    except:\n",
    "        pass"
   ]
  },
  {
   "cell_type": "code",
   "execution_count": 25,
   "metadata": {},
   "outputs": [
    {
     "data": {
      "text/plain": [
       "{'PG': {'companyName': 'Procter & Gamble Co',\n",
       "  'exchange': 'New York Stock Exchange',\n",
       "  'marketCap_in_B': 317.019685,\n",
       "  'latestPrice': 128.74,\n",
       "  'latestDividend': 3.164,\n",
       "  'dividendYieldPercent': 2.4576666148827093,\n",
       "  'PER': 23.417834336187177,\n",
       "  'ROE': 0.29397528977200355},\n",
       " 'KO': {'companyName': 'Coca-Cola Co',\n",
       "  'exchange': 'New York Stock Exchange',\n",
       "  'marketCap_in_B': 217.964904,\n",
       "  'latestPrice': 50.58,\n",
       "  'latestDividend': 1.65,\n",
       "  'dividendYieldPercent': 3.2640949554896146,\n",
       "  'PER': 28.012282173744676,\n",
       "  'ROE': 0.42133028770326864},\n",
       " 'CL': {'companyName': 'Colgate-Palmolive Co',\n",
       "  'exchange': 'New York Stock Exchange',\n",
       "  'marketCap_in_B': 64.516243,\n",
       "  'latestPrice': 76.03,\n",
       "  'latestDividend': 1.76,\n",
       "  'dividendYieldPercent': 2.3148757069577797,\n",
       "  'PER': 24.09544452690167,\n",
       "  'ROE': 6.950354609929078},\n",
       " 'HRL': {'companyName': 'Hormel Foods Corp',\n",
       "  'exchange': 'New York Stock Exchange',\n",
       "  'marketCap_in_B': 26.0567388,\n",
       "  'latestPrice': 48.24,\n",
       "  'latestDividend': 0.9435,\n",
       "  'dividendYieldPercent': 1.9558457711442785,\n",
       "  'PER': 29.727617406465086,\n",
       "  'ROE': 0.13973765656759604},\n",
       " 'SYY': {'companyName': 'Sysco Corp',\n",
       "  'exchange': 'New York Stock Exchange',\n",
       "  'marketCap_in_B': 40.205152,\n",
       "  'latestPrice': 78.77,\n",
       "  'latestDividend': 1.8,\n",
       "  'dividendYieldPercent': 2.2851339342389236,\n",
       "  'PER': -142.05206652463298,\n",
       "  'ROE': -0.19062771956776722},\n",
       " 'MO': {'companyName': 'Altria Group Inc',\n",
       "  'exchange': 'New York Stock Exchange',\n",
       "  'marketCap_in_B': 93.938196,\n",
       "  'latestPrice': 50.54,\n",
       "  'latestDividend': 4.26,\n",
       "  'dividendYieldPercent': 8.428967154728928,\n",
       "  'PER': 21.032876650996194,\n",
       "  'ROE': 0.9812729968696798}}"
      ]
     },
     "execution_count": 25,
     "metadata": {},
     "output_type": "execute_result"
    }
   ],
   "source": [
    "companyData"
   ]
  },
  {
   "cell_type": "code",
   "execution_count": 26,
   "metadata": {},
   "outputs": [
    {
     "data": {
      "text/html": [
       "<div>\n",
       "<style scoped>\n",
       "    .dataframe tbody tr th:only-of-type {\n",
       "        vertical-align: middle;\n",
       "    }\n",
       "\n",
       "    .dataframe tbody tr th {\n",
       "        vertical-align: top;\n",
       "    }\n",
       "\n",
       "    .dataframe thead th {\n",
       "        text-align: right;\n",
       "    }\n",
       "</style>\n",
       "<table border=\"1\" class=\"dataframe\">\n",
       "  <thead>\n",
       "    <tr style=\"text-align: right;\">\n",
       "      <th></th>\n",
       "      <th>companyName</th>\n",
       "      <th>exchange</th>\n",
       "      <th>marketCap_in_B</th>\n",
       "      <th>latestPrice</th>\n",
       "      <th>latestDividend</th>\n",
       "      <th>dividendYieldPercent</th>\n",
       "      <th>PER</th>\n",
       "      <th>ROE</th>\n",
       "    </tr>\n",
       "  </thead>\n",
       "  <tbody>\n",
       "    <tr>\n",
       "      <th>MO</th>\n",
       "      <td>Altria Group Inc</td>\n",
       "      <td>New York Stock Exchange</td>\n",
       "      <td>93.938196</td>\n",
       "      <td>50.54</td>\n",
       "      <td>4.2600</td>\n",
       "      <td>8.428967</td>\n",
       "      <td>21.032877</td>\n",
       "      <td>0.981273</td>\n",
       "    </tr>\n",
       "    <tr>\n",
       "      <th>KO</th>\n",
       "      <td>Coca-Cola Co</td>\n",
       "      <td>New York Stock Exchange</td>\n",
       "      <td>217.964904</td>\n",
       "      <td>50.58</td>\n",
       "      <td>1.6500</td>\n",
       "      <td>3.264095</td>\n",
       "      <td>28.012282</td>\n",
       "      <td>0.421330</td>\n",
       "    </tr>\n",
       "    <tr>\n",
       "      <th>PG</th>\n",
       "      <td>Procter &amp; Gamble Co</td>\n",
       "      <td>New York Stock Exchange</td>\n",
       "      <td>317.019685</td>\n",
       "      <td>128.74</td>\n",
       "      <td>3.1640</td>\n",
       "      <td>2.457667</td>\n",
       "      <td>23.417834</td>\n",
       "      <td>0.293975</td>\n",
       "    </tr>\n",
       "    <tr>\n",
       "      <th>CL</th>\n",
       "      <td>Colgate-Palmolive Co</td>\n",
       "      <td>New York Stock Exchange</td>\n",
       "      <td>64.516243</td>\n",
       "      <td>76.03</td>\n",
       "      <td>1.7600</td>\n",
       "      <td>2.314876</td>\n",
       "      <td>24.095445</td>\n",
       "      <td>6.950355</td>\n",
       "    </tr>\n",
       "    <tr>\n",
       "      <th>SYY</th>\n",
       "      <td>Sysco Corp</td>\n",
       "      <td>New York Stock Exchange</td>\n",
       "      <td>40.205152</td>\n",
       "      <td>78.77</td>\n",
       "      <td>1.8000</td>\n",
       "      <td>2.285134</td>\n",
       "      <td>-142.052067</td>\n",
       "      <td>-0.190628</td>\n",
       "    </tr>\n",
       "    <tr>\n",
       "      <th>HRL</th>\n",
       "      <td>Hormel Foods Corp</td>\n",
       "      <td>New York Stock Exchange</td>\n",
       "      <td>26.056739</td>\n",
       "      <td>48.24</td>\n",
       "      <td>0.9435</td>\n",
       "      <td>1.955846</td>\n",
       "      <td>29.727617</td>\n",
       "      <td>0.139738</td>\n",
       "    </tr>\n",
       "  </tbody>\n",
       "</table>\n",
       "</div>"
      ],
      "text/plain": [
       "              companyName                 exchange  marketCap_in_B  \\\n",
       "MO       Altria Group Inc  New York Stock Exchange       93.938196   \n",
       "KO           Coca-Cola Co  New York Stock Exchange      217.964904   \n",
       "PG    Procter & Gamble Co  New York Stock Exchange      317.019685   \n",
       "CL   Colgate-Palmolive Co  New York Stock Exchange       64.516243   \n",
       "SYY            Sysco Corp  New York Stock Exchange       40.205152   \n",
       "HRL     Hormel Foods Corp  New York Stock Exchange       26.056739   \n",
       "\n",
       "     latestPrice  latestDividend  dividendYieldPercent         PER       ROE  \n",
       "MO         50.54          4.2600              8.428967   21.032877  0.981273  \n",
       "KO         50.58          1.6500              3.264095   28.012282  0.421330  \n",
       "PG        128.74          3.1640              2.457667   23.417834  0.293975  \n",
       "CL         76.03          1.7600              2.314876   24.095445  6.950355  \n",
       "SYY        78.77          1.8000              2.285134 -142.052067 -0.190628  \n",
       "HRL        48.24          0.9435              1.955846   29.727617  0.139738  "
      ]
     },
     "execution_count": 26,
     "metadata": {},
     "output_type": "execute_result"
    }
   ],
   "source": [
    "df = pd.DataFrame.from_dict(companyData, orient='index')\n",
    "df = df.sort_values(['dividendYieldPercent'], ascending=False)\n",
    "df"
   ]
  }
 ],
 "metadata": {
  "kernelspec": {
   "display_name": "Python 3",
   "language": "python",
   "name": "python3"
  },
  "language_info": {
   "codemirror_mode": {
    "name": "ipython",
    "version": 3
   },
   "file_extension": ".py",
   "mimetype": "text/x-python",
   "name": "python",
   "nbconvert_exporter": "python",
   "pygments_lexer": "ipython3",
   "version": "3.8.8"
  },
  "toc": {
   "base_numbering": 1,
   "nav_menu": {},
   "number_sections": true,
   "sideBar": true,
   "skip_h1_title": true,
   "title_cell": "Table of Contents",
   "title_sidebar": "Contents",
   "toc_cell": false,
   "toc_position": {},
   "toc_section_display": true,
   "toc_window_display": true
  },
  "varInspector": {
   "cols": {
    "lenName": 16,
    "lenType": 16,
    "lenVar": 40
   },
   "kernels_config": {
    "python": {
     "delete_cmd_postfix": "",
     "delete_cmd_prefix": "del ",
     "library": "var_list.py",
     "varRefreshCmd": "print(var_dic_list())"
    },
    "r": {
     "delete_cmd_postfix": ") ",
     "delete_cmd_prefix": "rm(",
     "library": "var_list.r",
     "varRefreshCmd": "cat(var_dic_list()) "
    }
   },
   "types_to_exclude": [
    "module",
    "function",
    "builtin_function_or_method",
    "instance",
    "_Feature"
   ],
   "window_display": false
  }
 },
 "nbformat": 4,
 "nbformat_minor": 4
}
