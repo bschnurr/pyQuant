{
 "cells": [
  {
   "cell_type": "code",
   "execution_count": 2,
   "id": "c900a921",
   "metadata": {},
   "outputs": [],
   "source": [
    "import os\n",
    "import json\n",
    "import math\n",
    "import price\n",
    "import ratios\n",
    "import requests\n",
    "import momentum\n",
    "import pyticker\n",
    "import dividend\n",
    "import questrade\n",
    "import auto_email\n",
    "import numpy as np\n",
    "import pandas as pd\n",
    "import datetime as dt\n",
    "import matplotlib.pyplot as plt\n",
    "import pandas_datareader.data as web"
   ]
  },
  {
   "cell_type": "markdown",
   "id": "6b3e3fa5",
   "metadata": {},
   "source": [
    "## Global Variables"
   ]
  },
  {
   "cell_type": "code",
   "execution_count": 3,
   "id": "f00aae0d",
   "metadata": {},
   "outputs": [],
   "source": [
    "WATCHLIST = ['O']\n",
    "MOMENTUM_PERIODS = [1,3,6,12,24,36]"
   ]
  },
  {
   "cell_type": "markdown",
   "id": "387fd96d",
   "metadata": {},
   "source": [
    "## Create S&P 500 Data If Not Exists"
   ]
  },
  {
   "cell_type": "code",
   "execution_count": 4,
   "id": "60bb23fe",
   "metadata": {},
   "outputs": [],
   "source": [
    "if not os.path.exists('./sp500_100_billions_symbols.json'):\n",
    "    sp500 = pyticker.get_symbols_by_index('S&P 500')\n",
    "\n",
    "    data = {'Symbol': [], 'Market_Cap (B)': []}\n",
    "\n",
    "    market_cap_threshold = 200\n",
    "\n",
    "    count = 0\n",
    "\n",
    "    for symbol in sp500:\n",
    "        count += 1\n",
    "        print(f\"{symbol}: {count}/{len(sp500)}\")\n",
    "        try:\n",
    "            market_cap = ratios.calculate_market_cap(symbol)\n",
    "        except:\n",
    "            continue\n",
    "\n",
    "        if market_cap >= market_cap_threshold and dividend.exists_dividends(symbol):\n",
    "            data['Symbol'].append(symbol)\n",
    "            data['Market_Cap (B)'].append(market_cap)\n",
    "            print(f\"{symbol} has been added!\")\n",
    "\n",
    "    with open('./sp500_100_billions_symbols.json', 'w') as fp:\n",
    "        json.dump(data,fp)"
   ]
  },
  {
   "cell_type": "markdown",
   "id": "3243c60e",
   "metadata": {},
   "source": [
    "## Load Data"
   ]
  },
  {
   "cell_type": "code",
   "execution_count": 5,
   "id": "1b464cb7",
   "metadata": {},
   "outputs": [],
   "source": [
    "with open('./sp500_100_billions_symbols.json', 'r') as fp:\n",
    "    data = json.load(fp)\n",
    "df = pd.DataFrame(data)\n",
    "df.set_index('Symbol', inplace=True)"
   ]
  },
  {
   "cell_type": "markdown",
   "id": "30de05db",
   "metadata": {},
   "source": [
    "## Update Watchlist"
   ]
  },
  {
   "cell_type": "code",
   "execution_count": 6,
   "id": "cc223c30",
   "metadata": {},
   "outputs": [],
   "source": [
    "watchlist_data = {'Symbol': [], 'Market_Cap (B)': []}\n",
    "for symbol in WATCHLIST:\n",
    "    if len(WATCHLIST) == 1:\n",
    "        watchlist_data['Symbol'] = symbol\n",
    "        watchlist_data['Market_Cap (B)'] = ratios.calculate_market_cap(symbol)\n",
    "    else:\n",
    "        watchlist_data['Symbol'].append(symbol)\n",
    "        watchlist_data['Market_Cap (B)'].append(ratios.calculate_market_cap(symbol))\n",
    "\n",
    "df.reset_index(inplace=True)\n",
    "df = df.append(watchlist_data, ignore_index=True)\n",
    "df.set_index('Symbol', inplace=True)\n"
   ]
  },
  {
   "cell_type": "markdown",
   "id": "787b527e",
   "metadata": {},
   "source": [
    "## Financials"
   ]
  },
  {
   "cell_type": "code",
   "execution_count": null,
   "id": "78e67d70",
   "metadata": {},
   "outputs": [],
   "source": [
    "for symbol in list(df.index):\n",
    "\n",
    "    try:\n",
    "        div_growth = dividend.calcualte_avg_dividend_growth(symbol,10)\n",
    "        df.loc[symbol, 'Dividend_Growth'] = div_growth\n",
    "    except:\n",
    "        df.loc[symbol, 'Dividend_Growth'] = np.nan\n",
    "\n",
    "    try:\n",
    "        div_yield = dividend.calculate_current_dividend_yield(symbol)\n",
    "        df.loc[symbol, 'Dividend_Yield'] = div_yield\n",
    "    except:\n",
    "        df.loc[symbol, 'Dividend_Yield'] = np.nan\n",
    "        \n",
    "    try:\n",
    "        mom = momentum.calculate_equal_weight_momentum(symbol, MOMENTUM_PERIODS)\n",
    "        df.loc[symbol,'Momentum'] = mom\n",
    "    except:\n",
    "        df.loc[symbol,'Momentum'] = np.nan"
   ]
  },
  {
   "cell_type": "markdown",
   "id": "cc193f1f",
   "metadata": {},
   "source": [
    "## Export DataFrame"
   ]
  },
  {
   "cell_type": "code",
   "execution_count": null,
   "id": "7a80e3e5",
   "metadata": {},
   "outputs": [],
   "source": [
    "df.to_csv(r'./export_df_rpi.csv')"
   ]
  },
  {
   "cell_type": "markdown",
   "id": "cd3c6566",
   "metadata": {},
   "source": [
    "## Drawdowns From 52 Weeks High"
   ]
  },
  {
   "cell_type": "code",
   "execution_count": null,
   "id": "e747fc29",
   "metadata": {},
   "outputs": [],
   "source": [
    "for symbol in list(df.index):\n",
    "    high = price.calculate_prev_max_high(symbol,252)\n",
    "    curr_price = price.get_current_price(symbol)\n",
    "    df.loc[symbol,'12M_High'] = high\n",
    "    df.loc[symbol,'Current_Price'] = curr_price\n",
    "    df.loc[symbol,'15%_Drop'] = high * 0.85\n",
    "    df.loc[symbol,'30%_Drop'] = high * 0.70\n",
    "    df.loc[symbol,'50%_Drop'] = high * 0.5    \n",
    "df"
   ]
  },
  {
   "cell_type": "markdown",
   "id": "a5c14fe0",
   "metadata": {},
   "source": [
    "## Email Alert"
   ]
  },
  {
   "cell_type": "code",
   "execution_count": null,
   "id": "2139d9c2",
   "metadata": {},
   "outputs": [],
   "source": [
    "for symbol in list(df.index):\n",
    "    curr_price = df.loc[symbol,'Current_Price']\n",
    "    drop_15 = df.loc[symbol,'15%_Drop']\n",
    "    drop_30 = df.loc[symbol,'30%_Drop']\n",
    "    drop_50 = df.loc[symbol,'50%_Drop']\n",
    "    \n",
    "    if curr_price < drop_15 and curr_price > drop_30:\n",
    "        pass\n",
    "    elif curr_price < drop_30 and curr_price > drop_50:\n",
    "        pass\n",
    "    elif curr_price < drop_50:\n",
    "        pass\n",
    "\n",
    "        "
   ]
  }
 ],
 "metadata": {
  "kernelspec": {
   "display_name": "Python 3",
   "language": "python",
   "name": "python3"
  },
  "language_info": {
   "codemirror_mode": {
    "name": "ipython",
    "version": 3
   },
   "file_extension": ".py",
   "mimetype": "text/x-python",
   "name": "python",
   "nbconvert_exporter": "python",
   "pygments_lexer": "ipython3",
   "version": "3.8.8"
  },
  "toc": {
   "base_numbering": 1,
   "nav_menu": {},
   "number_sections": false,
   "sideBar": true,
   "skip_h1_title": true,
   "title_cell": "Table of Contents",
   "title_sidebar": "Contents",
   "toc_cell": false,
   "toc_position": {},
   "toc_section_display": true,
   "toc_window_display": false
  },
  "varInspector": {
   "cols": {
    "lenName": 16,
    "lenType": 16,
    "lenVar": 40
   },
   "kernels_config": {
    "python": {
     "delete_cmd_postfix": "",
     "delete_cmd_prefix": "del ",
     "library": "var_list.py",
     "varRefreshCmd": "print(var_dic_list())"
    },
    "r": {
     "delete_cmd_postfix": ") ",
     "delete_cmd_prefix": "rm(",
     "library": "var_list.r",
     "varRefreshCmd": "cat(var_dic_list()) "
    }
   },
   "types_to_exclude": [
    "module",
    "function",
    "builtin_function_or_method",
    "instance",
    "_Feature"
   ],
   "window_display": false
  }
 },
 "nbformat": 4,
 "nbformat_minor": 5
}
